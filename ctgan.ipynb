{
 "cells": [
  {
   "cell_type": "markdown",
   "id": "c4be781c-2854-471e-aba5-c41062943de2",
   "metadata": {},
   "source": [
    "# Using CTGAN to synthesise data\n",
    "\n",
    "Source: https://github.com/sdv-dev/CTGAN\n",
    "\n",
    "- Uses Python to generate synthetic data\n",
    "- Uses R for evaluation "
   ]
  },
  {
   "cell_type": "code",
   "execution_count": 2,
   "id": "4d45425d-b171-4b14-94dd-59c5abcb703c",
   "metadata": {},
   "outputs": [],
   "source": [
    "from ctgan import CTGANSynthesizer\n",
    "import pandas as pd\n",
    "import numpy as np\n",
    "import matplotlib.pyplot as plt"
   ]
  },
  {
   "cell_type": "markdown",
   "id": "b1708f4f-39fd-4765-9968-bf9732438b47",
   "metadata": {},
   "source": [
    "## Load dataset"
   ]
  },
  {
   "cell_type": "code",
   "execution_count": 49,
   "id": "72b7656a-8dfb-4ebd-9273-a7181b368417",
   "metadata": {},
   "outputs": [
    {
     "name": "stdout",
     "output_type": "stream",
     "text": [
      "<class 'pandas.core.frame.DataFrame'>\n",
      "RangeIndex: 1000 entries, 0 to 999\n",
      "Data columns (total 6 columns):\n",
      " #   Column   Non-Null Count  Dtype  \n",
      "---  ------   --------------  -----  \n",
      " 0   sex      1000 non-null   int64  \n",
      " 1   sat_v    1000 non-null   int64  \n",
      " 2   sat_m    1000 non-null   int64  \n",
      " 3   sat_sum  1000 non-null   int64  \n",
      " 4   hs_gpa   1000 non-null   float64\n",
      " 5   fy_gpa   1000 non-null   float64\n",
      "dtypes: float64(2), int64(4)\n",
      "memory usage: 47.0 KB\n"
     ]
    }
   ],
   "source": [
    "df = pd.read_csv(\"./original_data/satgpa.csv\")\n",
    "df.info()"
   ]
  },
  {
   "cell_type": "code",
   "execution_count": 50,
   "id": "019fd29a-2ddd-4ca4-945b-706bcb4cb441",
   "metadata": {},
   "outputs": [
    {
     "data": {
      "text/html": [
       "<div>\n",
       "<style scoped>\n",
       "    .dataframe tbody tr th:only-of-type {\n",
       "        vertical-align: middle;\n",
       "    }\n",
       "\n",
       "    .dataframe tbody tr th {\n",
       "        vertical-align: top;\n",
       "    }\n",
       "\n",
       "    .dataframe thead th {\n",
       "        text-align: right;\n",
       "    }\n",
       "</style>\n",
       "<table border=\"1\" class=\"dataframe\">\n",
       "  <thead>\n",
       "    <tr style=\"text-align: right;\">\n",
       "      <th></th>\n",
       "      <th>sex</th>\n",
       "      <th>sat_v</th>\n",
       "      <th>sat_m</th>\n",
       "      <th>sat_sum</th>\n",
       "      <th>hs_gpa</th>\n",
       "      <th>fy_gpa</th>\n",
       "    </tr>\n",
       "  </thead>\n",
       "  <tbody>\n",
       "    <tr>\n",
       "      <th>0</th>\n",
       "      <td>1</td>\n",
       "      <td>65</td>\n",
       "      <td>62</td>\n",
       "      <td>127</td>\n",
       "      <td>3.40</td>\n",
       "      <td>3.18</td>\n",
       "    </tr>\n",
       "    <tr>\n",
       "      <th>1</th>\n",
       "      <td>2</td>\n",
       "      <td>58</td>\n",
       "      <td>64</td>\n",
       "      <td>122</td>\n",
       "      <td>4.00</td>\n",
       "      <td>3.33</td>\n",
       "    </tr>\n",
       "    <tr>\n",
       "      <th>2</th>\n",
       "      <td>2</td>\n",
       "      <td>56</td>\n",
       "      <td>60</td>\n",
       "      <td>116</td>\n",
       "      <td>3.75</td>\n",
       "      <td>3.25</td>\n",
       "    </tr>\n",
       "    <tr>\n",
       "      <th>3</th>\n",
       "      <td>1</td>\n",
       "      <td>42</td>\n",
       "      <td>53</td>\n",
       "      <td>95</td>\n",
       "      <td>3.75</td>\n",
       "      <td>2.42</td>\n",
       "    </tr>\n",
       "    <tr>\n",
       "      <th>4</th>\n",
       "      <td>1</td>\n",
       "      <td>55</td>\n",
       "      <td>52</td>\n",
       "      <td>107</td>\n",
       "      <td>4.00</td>\n",
       "      <td>2.63</td>\n",
       "    </tr>\n",
       "  </tbody>\n",
       "</table>\n",
       "</div>"
      ],
      "text/plain": [
       "   sex  sat_v  sat_m  sat_sum  hs_gpa  fy_gpa\n",
       "0    1     65     62      127    3.40    3.18\n",
       "1    2     58     64      122    4.00    3.33\n",
       "2    2     56     60      116    3.75    3.25\n",
       "3    1     42     53       95    3.75    2.42\n",
       "4    1     55     52      107    4.00    2.63"
      ]
     },
     "execution_count": 50,
     "metadata": {},
     "output_type": "execute_result"
    }
   ],
   "source": [
    "df.head()"
   ]
  },
  {
   "cell_type": "code",
   "execution_count": 51,
   "id": "5b57b641-2fa8-417f-9132-673f4824d00e",
   "metadata": {},
   "outputs": [],
   "source": [
    "# Set discrete columns\n",
    "discrete_cols = [\n",
    "    'sex'\n",
    "]"
   ]
  },
  {
   "cell_type": "markdown",
   "id": "162aef68-8a53-49fb-a4d2-885c45ff6ba3",
   "metadata": {},
   "source": [
    "## Generate synthetic data"
   ]
  },
  {
   "cell_type": "code",
   "execution_count": 66,
   "id": "7ee0753b-e61f-419a-a4cb-306199d96e66",
   "metadata": {},
   "outputs": [
    {
     "name": "stdout",
     "output_type": "stream",
     "text": [
      "Help on class CTGANSynthesizer in module ctgan.synthesizers.ctgan:\n",
      "\n",
      "class CTGANSynthesizer(ctgan.synthesizers.base.BaseSynthesizer)\n",
      " |  CTGANSynthesizer(embedding_dim=128, generator_dim=(256, 256), discriminator_dim=(256, 256), generator_lr=0.0002, generator_decay=1e-06, discriminator_lr=0.0002, discriminator_decay=1e-06, batch_size=500, discriminator_steps=1, log_frequency=True, verbose=False, epochs=300, pac=10, cuda=True)\n",
      " |  \n",
      " |  Conditional Table GAN Synthesizer.\n",
      " |  \n",
      " |  This is the core class of the CTGAN project, where the different components\n",
      " |  are orchestrated together.\n",
      " |  For more details about the process, please check the [Modeling Tabular data using\n",
      " |  Conditional GAN](https://arxiv.org/abs/1907.00503) paper.\n",
      " |  Args:\n",
      " |      embedding_dim (int):\n",
      " |          Size of the random sample passed to the Generator. Defaults to 128.\n",
      " |      generator_dim (tuple or list of ints):\n",
      " |          Size of the output samples for each one of the Residuals. A Residual Layer\n",
      " |          will be created for each one of the values provided. Defaults to (256, 256).\n",
      " |      discriminator_dim (tuple or list of ints):\n",
      " |          Size of the output samples for each one of the Discriminator Layers. A Linear Layer\n",
      " |          will be created for each one of the values provided. Defaults to (256, 256).\n",
      " |      generator_lr (float):\n",
      " |          Learning rate for the generator. Defaults to 2e-4.\n",
      " |      generator_decay (float):\n",
      " |          Generator weight decay for the Adam Optimizer. Defaults to 1e-6.\n",
      " |      discriminator_lr (float):\n",
      " |          Learning rate for the discriminator. Defaults to 2e-4.\n",
      " |      discriminator_decay (float):\n",
      " |          Discriminator weight decay for the Adam Optimizer. Defaults to 1e-6.\n",
      " |      batch_size (int):\n",
      " |          Number of data samples to process in each step.\n",
      " |      discriminator_steps (int):\n",
      " |          Number of discriminator updates to do for each generator update.\n",
      " |          From the WGAN paper: https://arxiv.org/abs/1701.07875. WGAN paper\n",
      " |          default is 5. Default used is 1 to match original CTGAN implementation.\n",
      " |      log_frequency (boolean):\n",
      " |          Whether to use log frequency of categorical levels in conditional\n",
      " |          sampling. Defaults to ``True``.\n",
      " |      verbose (boolean):\n",
      " |          Whether to have print statements for progress results. Defaults to ``False``.\n",
      " |      epochs (int):\n",
      " |          Number of training epochs. Defaults to 300.\n",
      " |      pac (int):\n",
      " |          Number of samples to group together when applying the discriminator.\n",
      " |          Defaults to 10.\n",
      " |      cuda (bool):\n",
      " |          Whether to attempt to use cuda for GPU computation.\n",
      " |          If this is False or CUDA is not available, CPU will be used.\n",
      " |          Defaults to ``True``.\n",
      " |  \n",
      " |  Method resolution order:\n",
      " |      CTGANSynthesizer\n",
      " |      ctgan.synthesizers.base.BaseSynthesizer\n",
      " |      builtins.object\n",
      " |  \n",
      " |  Methods defined here:\n",
      " |  \n",
      " |  __init__(self, embedding_dim=128, generator_dim=(256, 256), discriminator_dim=(256, 256), generator_lr=0.0002, generator_decay=1e-06, discriminator_lr=0.0002, discriminator_decay=1e-06, batch_size=500, discriminator_steps=1, log_frequency=True, verbose=False, epochs=300, pac=10, cuda=True)\n",
      " |      Initialize self.  See help(type(self)) for accurate signature.\n",
      " |  \n",
      " |  fit(self, train_data, discrete_columns=(), epochs=None)\n",
      " |      Fit the CTGAN Synthesizer models to the training data.\n",
      " |      \n",
      " |      Args:\n",
      " |          train_data (numpy.ndarray or pandas.DataFrame):\n",
      " |              Training Data. It must be a 2-dimensional numpy array or a pandas.DataFrame.\n",
      " |          discrete_columns (list-like):\n",
      " |              List of discrete columns to be used to generate the Conditional\n",
      " |              Vector. If ``train_data`` is a Numpy array, this list should\n",
      " |              contain the integer indices of the columns. Otherwise, if it is\n",
      " |              a ``pandas.DataFrame``, this list should contain the column names.\n",
      " |  \n",
      " |  sample(self, n, condition_column=None, condition_value=None)\n",
      " |      Sample data similar to the training data.\n",
      " |      \n",
      " |      Choosing a condition_column and condition_value will increase the probability of the\n",
      " |      discrete condition_value happening in the condition_column.\n",
      " |      Args:\n",
      " |          n (int):\n",
      " |              Number of rows to sample.\n",
      " |          condition_column (string):\n",
      " |              Name of a discrete column.\n",
      " |          condition_value (string):\n",
      " |              Name of the category in the condition_column which we wish to increase the\n",
      " |              probability of happening.\n",
      " |      Returns:\n",
      " |          numpy.ndarray or pandas.DataFrame\n",
      " |  \n",
      " |  set_device(self, device)\n",
      " |  \n",
      " |  ----------------------------------------------------------------------\n",
      " |  Methods inherited from ctgan.synthesizers.base.BaseSynthesizer:\n",
      " |  \n",
      " |  save(self, path)\n",
      " |  \n",
      " |  ----------------------------------------------------------------------\n",
      " |  Class methods inherited from ctgan.synthesizers.base.BaseSynthesizer:\n",
      " |  \n",
      " |  load(path) from builtins.type\n",
      " |  \n",
      " |  ----------------------------------------------------------------------\n",
      " |  Data descriptors inherited from ctgan.synthesizers.base.BaseSynthesizer:\n",
      " |  \n",
      " |  __dict__\n",
      " |      dictionary for instance variables (if defined)\n",
      " |  \n",
      " |  __weakref__\n",
      " |      list of weak references to the object (if defined)\n",
      "\n"
     ]
    }
   ],
   "source": [
    "help(CTGANSynthesizer)"
   ]
  },
  {
   "cell_type": "code",
   "execution_count": 68,
   "id": "d408d438-8bf2-4ade-a28b-6bfa1f470e2f",
   "metadata": {},
   "outputs": [
    {
     "name": "stderr",
     "output_type": "stream",
     "text": [
      "C:\\Users\\kooste\\.virtualenvs\\kooste-Y9QsWDTI\\lib\\site-packages\\sklearn\\mixture\\_base.py:265: ConvergenceWarning: Initialization 1 did not converge. Try different init parameters, or increase max_iter, tol or check for degenerate data.\n",
      "  warnings.warn('Initialization %d did not converge. '\n",
      "C:\\Users\\kooste\\.virtualenvs\\kooste-Y9QsWDTI\\lib\\site-packages\\sklearn\\mixture\\_base.py:265: ConvergenceWarning: Initialization 1 did not converge. Try different init parameters, or increase max_iter, tol or check for degenerate data.\n",
      "  warnings.warn('Initialization %d did not converge. '\n",
      "C:\\Users\\kooste\\.virtualenvs\\kooste-Y9QsWDTI\\lib\\site-packages\\sklearn\\mixture\\_base.py:265: ConvergenceWarning: Initialization 1 did not converge. Try different init parameters, or increase max_iter, tol or check for degenerate data.\n",
      "  warnings.warn('Initialization %d did not converge. '\n",
      "C:\\Users\\kooste\\.virtualenvs\\kooste-Y9QsWDTI\\lib\\site-packages\\sklearn\\mixture\\_base.py:265: ConvergenceWarning: Initialization 1 did not converge. Try different init parameters, or increase max_iter, tol or check for degenerate data.\n",
      "  warnings.warn('Initialization %d did not converge. '\n",
      "C:\\Users\\kooste\\.virtualenvs\\kooste-Y9QsWDTI\\lib\\site-packages\\sklearn\\mixture\\_base.py:265: ConvergenceWarning: Initialization 1 did not converge. Try different init parameters, or increase max_iter, tol or check for degenerate data.\n",
      "  warnings.warn('Initialization %d did not converge. '\n"
     ]
    }
   ],
   "source": [
    "model = CTGANSynthesizer()\n",
    "model.fit(df, discrete_cols)"
   ]
  },
  {
   "cell_type": "code",
   "execution_count": 69,
   "id": "90eb68a8-c506-4c2d-ac57-c1fb333ffdef",
   "metadata": {},
   "outputs": [],
   "source": [
    "synth_df = model.sample(1000)"
   ]
  },
  {
   "cell_type": "code",
   "execution_count": 70,
   "id": "65d9e0ac-918d-4a25-a1d5-5f9cb48e4eab",
   "metadata": {},
   "outputs": [
    {
     "data": {
      "text/html": [
       "<div>\n",
       "<style scoped>\n",
       "    .dataframe tbody tr th:only-of-type {\n",
       "        vertical-align: middle;\n",
       "    }\n",
       "\n",
       "    .dataframe tbody tr th {\n",
       "        vertical-align: top;\n",
       "    }\n",
       "\n",
       "    .dataframe thead th {\n",
       "        text-align: right;\n",
       "    }\n",
       "</style>\n",
       "<table border=\"1\" class=\"dataframe\">\n",
       "  <thead>\n",
       "    <tr style=\"text-align: right;\">\n",
       "      <th></th>\n",
       "      <th>sex</th>\n",
       "      <th>sat_v</th>\n",
       "      <th>sat_m</th>\n",
       "      <th>sat_sum</th>\n",
       "      <th>hs_gpa</th>\n",
       "      <th>fy_gpa</th>\n",
       "    </tr>\n",
       "  </thead>\n",
       "  <tbody>\n",
       "    <tr>\n",
       "      <th>0</th>\n",
       "      <td>1</td>\n",
       "      <td>33</td>\n",
       "      <td>72</td>\n",
       "      <td>117</td>\n",
       "      <td>3.305693</td>\n",
       "      <td>3.933615</td>\n",
       "    </tr>\n",
       "    <tr>\n",
       "      <th>1</th>\n",
       "      <td>1</td>\n",
       "      <td>64</td>\n",
       "      <td>65</td>\n",
       "      <td>121</td>\n",
       "      <td>3.479289</td>\n",
       "      <td>3.661572</td>\n",
       "    </tr>\n",
       "    <tr>\n",
       "      <th>2</th>\n",
       "      <td>1</td>\n",
       "      <td>51</td>\n",
       "      <td>75</td>\n",
       "      <td>102</td>\n",
       "      <td>3.139655</td>\n",
       "      <td>3.808304</td>\n",
       "    </tr>\n",
       "    <tr>\n",
       "      <th>3</th>\n",
       "      <td>1</td>\n",
       "      <td>64</td>\n",
       "      <td>80</td>\n",
       "      <td>119</td>\n",
       "      <td>2.837041</td>\n",
       "      <td>3.717887</td>\n",
       "    </tr>\n",
       "    <tr>\n",
       "      <th>4</th>\n",
       "      <td>1</td>\n",
       "      <td>80</td>\n",
       "      <td>64</td>\n",
       "      <td>145</td>\n",
       "      <td>3.476595</td>\n",
       "      <td>2.666414</td>\n",
       "    </tr>\n",
       "  </tbody>\n",
       "</table>\n",
       "</div>"
      ],
      "text/plain": [
       "   sex  sat_v  sat_m  sat_sum    hs_gpa    fy_gpa\n",
       "0    1     33     72      117  3.305693  3.933615\n",
       "1    1     64     65      121  3.479289  3.661572\n",
       "2    1     51     75      102  3.139655  3.808304\n",
       "3    1     64     80      119  2.837041  3.717887\n",
       "4    1     80     64      145  3.476595  2.666414"
      ]
     },
     "execution_count": 70,
     "metadata": {},
     "output_type": "execute_result"
    }
   ],
   "source": [
    "synth_df.head()"
   ]
  },
  {
   "cell_type": "code",
   "execution_count": 56,
   "id": "3c5b7145-bb77-4fd9-a6c8-a0e8631ca1a1",
   "metadata": {},
   "outputs": [],
   "source": [
    "# Output\n",
    "synth_output = \"./synth_data/ctgan_method.csv\""
   ]
  },
  {
   "cell_type": "code",
   "execution_count": 57,
   "id": "288dc27a-de82-4978-81f5-de1ab5d2d886",
   "metadata": {},
   "outputs": [],
   "source": [
    "synth_df.to_csv(synth_output, sep=\",\")"
   ]
  },
  {
   "cell_type": "markdown",
   "id": "b592cf85-0237-4d2b-b0a9-30a02982bdc6",
   "metadata": {},
   "source": [
    "## Evaluation"
   ]
  },
  {
   "cell_type": "code",
   "execution_count": 6,
   "id": "c7596e11-1f36-4971-9e5c-335c4059a93e",
   "metadata": {},
   "outputs": [],
   "source": [
    "# Read in synth data\n",
    "synth_df = pd.read_csv(synth_output)"
   ]
  },
  {
   "cell_type": "markdown",
   "id": "3a99677c-3a95-4a20-82b6-632a10216781",
   "metadata": {},
   "source": [
    "Use R: synthpop package"
   ]
  },
  {
   "cell_type": "code",
   "execution_count": 22,
   "id": "cd269461-f5f2-4fa8-8a04-e8ee14136a7f",
   "metadata": {},
   "outputs": [
    {
     "name": "stdout",
     "output_type": "stream",
     "text": [
      "The rpy2.ipython extension is already loaded. To reload it, use:\n",
      "  %reload_ext rpy2.ipython\n"
     ]
    }
   ],
   "source": [
    "# Enables R in the notebook, only need to run once\n",
    "%load_ext rpy2.ipython"
   ]
  },
  {
   "cell_type": "code",
   "execution_count": 71,
   "id": "6aba66cf-1141-4c5c-8e99-b4bb6df9b188",
   "metadata": {},
   "outputs": [
    {
     "name": "stdout",
     "output_type": "stream",
     "text": [
      "\n",
      "Call:\n",
      "lm(formula = hs_gpa ~ fy_gpa, data = df)\n",
      "\n",
      "Coefficients:\n",
      "(Intercept)       fy_gpa  \n",
      "     2.2176       0.3973  \n",
      "\n",
      "\n",
      "Call:\n",
      "lm(formula = hs_gpa ~ fy_gpa, data = synth_df)\n",
      "\n",
      "Coefficients:\n",
      "(Intercept)       fy_gpa  \n",
      "     2.2605       0.1869  \n",
      "\n",
      "0.3591505 0.4354067 0.1390901 0.2347514[1] -1.465871\n"
     ]
    }
   ],
   "source": [
    "%%R -i df,synth_df\n",
    "# Imports both dataframes from global environment\n",
    "\n",
    "# Does high school GPA predict first year uni GPA?\n",
    "real_coeff <- lm(hs_gpa ~ fy_gpa, data = df)\n",
    "synth_coeff <- lm(hs_gpa ~ fy_gpa, data = synth_df)\n",
    "\n",
    "print(real_coeff)\n",
    "print(synth_coeff)\n",
    "\n",
    "# Confidence interval overlap\n",
    "ci_real_low <- confint(real_coeff, 'fy_gpa', level=0.95)[1]\n",
    "ci_real_high <- confint(real_coeff, 'fy_gpa', level=0.95)[2]\n",
    "ci_synth_low <- confint(synth_coeff, 'fy_gpa', level=0.95)[1]\n",
    "ci_synth_high <- confint(synth_coeff, 'fy_gpa', level=0.95)[2]\n",
    "\n",
    "cat(ci_real_low, ci_real_high, ci_synth_low, ci_synth_high)\n",
    "\n",
    "io <- 0.5 * (\n",
    "    (min(ci_real_high, ci_synth_high) - max(ci_real_low, ci_synth_low))/(ci_real_high - ci_real_low) +\n",
    "    (min(ci_real_high, ci_synth_high) - max(ci_real_low, ci_synth_low))/(ci_synth_high - ci_synth_low)\n",
    ")\n",
    "\n",
    "print(io)"
   ]
  },
  {
   "cell_type": "code",
   "execution_count": 64,
   "id": "93f71d4f-592e-4cbe-8e93-b5b3ba21b25b",
   "metadata": {},
   "outputs": [
    {
     "name": "stdout",
     "output_type": "stream",
     "text": [
      "[1] -0.01712538\n"
     ]
    },
    {
     "data": {
      "image/png": "[encoded data removed]"
     },
     "metadata": {},
     "output_type": "display_data"
    }
   ],
   "source": [
    "%%R -i df,synth_df\n",
    "# Imports both dataframes from global environment\n",
    "\n",
    "print(cor(df$hs_gpa, synth_df$hs_gpa))\n",
    "plot(df$hs_gpa, synth_df$hs_gpa, type = \"p\")"
   ]
  }
 ],
 "metadata": {
  "kernelspec": {
   "display_name": "kooste-Y9QsWDTI",
   "language": "python",
   "name": "kooste-y9qswdti"
  },
  "language_info": {
   "codemirror_mode": {
    "name": "ipython",
    "version": 3
   },
   "file_extension": ".py",
   "mimetype": "text/x-python",
   "name": "python",
   "nbconvert_exporter": "python",
   "pygments_lexer": "ipython3",
   "version": "3.8.10"
  }
 },
 "nbformat": 4,
 "nbformat_minor": 5
}
