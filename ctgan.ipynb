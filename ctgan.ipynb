{
 "cells": [
  {
   "cell_type": "markdown",
   "id": "c4be781c-2854-471e-aba5-c41062943de2",
   "metadata": {},
   "source": [
    "# Using CTGAN to synthesise data\n",
    "\n",
    "Source: https://github.com/sdv-dev/CTGAN\n",
    "\n",
    "- Uses Python to generate synthetic data\n",
    "- Uses R for evaluation "
   ]
  },
  {
   "cell_type": "code",
   "execution_count": 2,
   "id": "4d45425d-b171-4b14-94dd-59c5abcb703c",
   "metadata": {},
   "outputs": [],
   "source": [
    "from ctgan import CTGANSynthesizer\n",
    "import pandas as pd\n",
    "import numpy as np\n",
    "import matplotlib.pyplot as plt"
   ]
  },
  {
   "cell_type": "markdown",
   "id": "b1708f4f-39fd-4765-9968-bf9732438b47",
   "metadata": {},
   "source": [
    "## Load dataset"
   ]
  },
  {
   "cell_type": "code",
   "execution_count": 49,
   "id": "72b7656a-8dfb-4ebd-9273-a7181b368417",
   "metadata": {},
   "outputs": [
    {
     "name": "stdout",
     "output_type": "stream",
     "text": [
      "<class 'pandas.core.frame.DataFrame'>\n",
      "RangeIndex: 1000 entries, 0 to 999\n",
      "Data columns (total 6 columns):\n",
      " #   Column   Non-Null Count  Dtype  \n",
      "---  ------   --------------  -----  \n",
      " 0   sex      1000 non-null   int64  \n",
      " 1   sat_v    1000 non-null   int64  \n",
      " 2   sat_m    1000 non-null   int64  \n",
      " 3   sat_sum  1000 non-null   int64  \n",
      " 4   hs_gpa   1000 non-null   float64\n",
      " 5   fy_gpa   1000 non-null   float64\n",
      "dtypes: float64(2), int64(4)\n",
      "memory usage: 47.0 KB\n"
     ]
    }
   ],
   "source": [
    "df = pd.read_csv(\"./original_data/satgpa.csv\")\n",
    "df.info()"
   ]
  },
  {
   "cell_type": "code",
   "execution_count": 50,
   "id": "019fd29a-2ddd-4ca4-945b-706bcb4cb441",
   "metadata": {},
   "outputs": [
    {
     "data": {
      "text/html": [
       "<div>\n",
       "<style scoped>\n",
       "    .dataframe tbody tr th:only-of-type {\n",
       "        vertical-align: middle;\n",
       "    }\n",
       "\n",
       "    .dataframe tbody tr th {\n",
       "        vertical-align: top;\n",
       "    }\n",
       "\n",
       "    .dataframe thead th {\n",
       "        text-align: right;\n",
       "    }\n",
       "</style>\n",
       "<table border=\"1\" class=\"dataframe\">\n",
       "  <thead>\n",
       "    <tr style=\"text-align: right;\">\n",
       "      <th></th>\n",
       "      <th>sex</th>\n",
       "      <th>sat_v</th>\n",
       "      <th>sat_m</th>\n",
       "      <th>sat_sum</th>\n",
       "      <th>hs_gpa</th>\n",
       "      <th>fy_gpa</th>\n",
       "    </tr>\n",
       "  </thead>\n",
       "  <tbody>\n",
       "    <tr>\n",
       "      <th>0</th>\n",
       "      <td>1</td>\n",
       "      <td>65</td>\n",
       "      <td>62</td>\n",
       "      <td>127</td>\n",
       "      <td>3.40</td>\n",
       "      <td>3.18</td>\n",
       "    </tr>\n",
       "    <tr>\n",
       "      <th>1</th>\n",
       "      <td>2</td>\n",
       "      <td>58</td>\n",
       "      <td>64</td>\n",
       "      <td>122</td>\n",
       "      <td>4.00</td>\n",
       "      <td>3.33</td>\n",
       "    </tr>\n",
       "    <tr>\n",
       "      <th>2</th>\n",
       "      <td>2</td>\n",
       "      <td>56</td>\n",
       "      <td>60</td>\n",
       "      <td>116</td>\n",
       "      <td>3.75</td>\n",
       "      <td>3.25</td>\n",
       "    </tr>\n",
       "    <tr>\n",
       "      <th>3</th>\n",
       "      <td>1</td>\n",
       "      <td>42</td>\n",
       "      <td>53</td>\n",
       "      <td>95</td>\n",
       "      <td>3.75</td>\n",
       "      <td>2.42</td>\n",
       "    </tr>\n",
       "    <tr>\n",
       "      <th>4</th>\n",
       "      <td>1</td>\n",
       "      <td>55</td>\n",
       "      <td>52</td>\n",
       "      <td>107</td>\n",
       "      <td>4.00</td>\n",
       "      <td>2.63</td>\n",
       "    </tr>\n",
       "  </tbody>\n",
       "</table>\n",
       "</div>"
      ],
      "text/plain": [
       "   sex  sat_v  sat_m  sat_sum  hs_gpa  fy_gpa\n",
       "0    1     65     62      127    3.40    3.18\n",
       "1    2     58     64      122    4.00    3.33\n",
       "2    2     56     60      116    3.75    3.25\n",
       "3    1     42     53       95    3.75    2.42\n",
       "4    1     55     52      107    4.00    2.63"
      ]
     },
     "execution_count": 50,
     "metadata": {},
     "output_type": "execute_result"
    }
   ],
   "source": [
    "df.head()"
   ]
  },
  {
   "cell_type": "code",
   "execution_count": 51,
   "id": "5b57b641-2fa8-417f-9132-673f4824d00e",
   "metadata": {},
   "outputs": [],
   "source": [
    "# Set discrete columns\n",
    "discrete_cols = [\n",
    "    'sex'\n",
    "]"
   ]
  },
  {
   "cell_type": "markdown",
   "id": "162aef68-8a53-49fb-a4d2-885c45ff6ba3",
   "metadata": {},
   "source": [
    "## Generate synthetic data"
   ]
  },
  {
   "cell_type": "code",
   "execution_count": 68,
   "id": "d408d438-8bf2-4ade-a28b-6bfa1f470e2f",
   "metadata": {},
   "outputs": [
    {
     "name": "stderr",
     "output_type": "stream",
     "text": [
      "C:\\Users\\kooste\\.virtualenvs\\kooste-Y9QsWDTI\\lib\\site-packages\\sklearn\\mixture\\_base.py:265: ConvergenceWarning: Initialization 1 did not converge. Try different init parameters, or increase max_iter, tol or check for degenerate data.\n",
      "  warnings.warn('Initialization %d did not converge. '\n",
      "C:\\Users\\kooste\\.virtualenvs\\kooste-Y9QsWDTI\\lib\\site-packages\\sklearn\\mixture\\_base.py:265: ConvergenceWarning: Initialization 1 did not converge. Try different init parameters, or increase max_iter, tol or check for degenerate data.\n",
      "  warnings.warn('Initialization %d did not converge. '\n",
      "C:\\Users\\kooste\\.virtualenvs\\kooste-Y9QsWDTI\\lib\\site-packages\\sklearn\\mixture\\_base.py:265: ConvergenceWarning: Initialization 1 did not converge. Try different init parameters, or increase max_iter, tol or check for degenerate data.\n",
      "  warnings.warn('Initialization %d did not converge. '\n",
      "C:\\Users\\kooste\\.virtualenvs\\kooste-Y9QsWDTI\\lib\\site-packages\\sklearn\\mixture\\_base.py:265: ConvergenceWarning: Initialization 1 did not converge. Try different init parameters, or increase max_iter, tol or check for degenerate data.\n",
      "  warnings.warn('Initialization %d did not converge. '\n",
      "C:\\Users\\kooste\\.virtualenvs\\kooste-Y9QsWDTI\\lib\\site-packages\\sklearn\\mixture\\_base.py:265: ConvergenceWarning: Initialization 1 did not converge. Try different init parameters, or increase max_iter, tol or check for degenerate data.\n",
      "  warnings.warn('Initialization %d did not converge. '\n"
     ]
    }
   ],
   "source": [
    "model = CTGANSynthesizer()\n",
    "model.fit(df, discrete_cols)"
   ]
  },
  {
   "cell_type": "code",
   "execution_count": 69,
   "id": "90eb68a8-c506-4c2d-ac57-c1fb333ffdef",
   "metadata": {},
   "outputs": [],
   "source": [
    "synth_df = model.sample(1000)"
   ]
  },
  {
   "cell_type": "code",
   "execution_count": 73,
   "id": "65d9e0ac-918d-4a25-a1d5-5f9cb48e4eab",
   "metadata": {},
   "outputs": [
    {
     "data": {
      "text/html": [
       "<div>\n",
       "<style scoped>\n",
       "    .dataframe tbody tr th:only-of-type {\n",
       "        vertical-align: middle;\n",
       "    }\n",
       "\n",
       "    .dataframe tbody tr th {\n",
       "        vertical-align: top;\n",
       "    }\n",
       "\n",
       "    .dataframe thead th {\n",
       "        text-align: right;\n",
       "    }\n",
       "</style>\n",
       "<table border=\"1\" class=\"dataframe\">\n",
       "  <thead>\n",
       "    <tr style=\"text-align: right;\">\n",
       "      <th></th>\n",
       "      <th>sex</th>\n",
       "      <th>sat_v</th>\n",
       "      <th>sat_m</th>\n",
       "      <th>sat_sum</th>\n",
       "      <th>hs_gpa</th>\n",
       "      <th>fy_gpa</th>\n",
       "    </tr>\n",
       "  </thead>\n",
       "  <tbody>\n",
       "    <tr>\n",
       "      <th>0</th>\n",
       "      <td>1</td>\n",
       "      <td>33</td>\n",
       "      <td>72</td>\n",
       "      <td>117</td>\n",
       "      <td>3.305693</td>\n",
       "      <td>3.933615</td>\n",
       "    </tr>\n",
       "    <tr>\n",
       "      <th>1</th>\n",
       "      <td>1</td>\n",
       "      <td>64</td>\n",
       "      <td>65</td>\n",
       "      <td>121</td>\n",
       "      <td>3.479289</td>\n",
       "      <td>3.661572</td>\n",
       "    </tr>\n",
       "    <tr>\n",
       "      <th>2</th>\n",
       "      <td>1</td>\n",
       "      <td>51</td>\n",
       "      <td>75</td>\n",
       "      <td>102</td>\n",
       "      <td>3.139655</td>\n",
       "      <td>3.808304</td>\n",
       "    </tr>\n",
       "    <tr>\n",
       "      <th>3</th>\n",
       "      <td>1</td>\n",
       "      <td>64</td>\n",
       "      <td>80</td>\n",
       "      <td>119</td>\n",
       "      <td>2.837041</td>\n",
       "      <td>3.717887</td>\n",
       "    </tr>\n",
       "    <tr>\n",
       "      <th>4</th>\n",
       "      <td>1</td>\n",
       "      <td>80</td>\n",
       "      <td>64</td>\n",
       "      <td>145</td>\n",
       "      <td>3.476595</td>\n",
       "      <td>2.666414</td>\n",
       "    </tr>\n",
       "  </tbody>\n",
       "</table>\n",
       "</div>"
      ],
      "text/plain": [
       "   sex  sat_v  sat_m  sat_sum    hs_gpa    fy_gpa\n",
       "0    1     33     72      117  3.305693  3.933615\n",
       "1    1     64     65      121  3.479289  3.661572\n",
       "2    1     51     75      102  3.139655  3.808304\n",
       "3    1     64     80      119  2.837041  3.717887\n",
       "4    1     80     64      145  3.476595  2.666414"
      ]
     },
     "execution_count": 73,
     "metadata": {},
     "output_type": "execute_result"
    }
   ],
   "source": [
    "synth_df.head()"
   ]
  },
  {
   "cell_type": "code",
   "execution_count": 74,
   "id": "3c5b7145-bb77-4fd9-a6c8-a0e8631ca1a1",
   "metadata": {},
   "outputs": [],
   "source": [
    "# Output\n",
    "synth_output = \"./synth_data/ctgan_method.csv\""
   ]
  },
  {
   "cell_type": "code",
   "execution_count": 75,
   "id": "288dc27a-de82-4978-81f5-de1ab5d2d886",
   "metadata": {},
   "outputs": [],
   "source": [
    "synth_df.to_csv(synth_output, sep=\",\")"
   ]
  },
  {
   "cell_type": "markdown",
   "id": "b592cf85-0237-4d2b-b0a9-30a02982bdc6",
   "metadata": {},
   "source": [
    "## Evaluation\n",
    "\n",
    "Sometimes R is used for evaluating utility as it's easy to use the statistics functions"
   ]
  },
  {
   "cell_type": "code",
   "execution_count": 6,
   "id": "c7596e11-1f36-4971-9e5c-335c4059a93e",
   "metadata": {},
   "outputs": [],
   "source": [
    "# Read in synth data\n",
    "synth_df = pd.read_csv(synth_output)"
   ]
  },
  {
   "cell_type": "code",
   "execution_count": 22,
   "id": "cd269461-f5f2-4fa8-8a04-e8ee14136a7f",
   "metadata": {},
   "outputs": [
    {
     "name": "stdout",
     "output_type": "stream",
     "text": [
      "The rpy2.ipython extension is already loaded. To reload it, use:\n",
      "  %reload_ext rpy2.ipython\n"
     ]
    }
   ],
   "source": [
    "# Enables R in the notebook, only need to run once\n",
    "%load_ext rpy2.ipython"
   ]
  },
  {
   "cell_type": "markdown",
   "id": "cb685712-7de3-41c9-b3bf-4edb32dccef7",
   "metadata": {},
   "source": [
    "### Table propensity score\n",
    "\n",
    "Categorical variable count for sex.\n",
    "\n",
    "Since we have equal table sizes, we can calculate the propensity score:\n",
    "\n",
    "$$\n",
    "p_i = \\frac{s_i}{s_i + y_i}\n",
    "$$\n",
    "\n",
    "- $i$ is a categorical variable\n",
    "- $p$ is the propensity score\n",
    "- $s$ is the count for synthetic data\n",
    "- $y$ is the count for real/original data"
   ]
  },
  {
   "cell_type": "code",
   "execution_count": 89,
   "id": "5c8df825-65db-4219-9a28-2e65ff9064f3",
   "metadata": {},
   "outputs": [
    {
     "name": "stdout",
     "output_type": "stream",
     "text": [
      "[1] \"Frequency of sex: Real\"\n",
      "  sex   n  freq\n",
      "1   1 516 0.516\n",
      "2   2 484 0.484\n",
      "[1] \"Frequency of sex: Synthetic\"\n",
      "  sex   n  freq   p_score\n",
      "1   1 529 0.529 0.5062201\n",
      "2   2 471 0.471 0.4931937\n"
     ]
    }
   ],
   "source": [
    "%%R -i df,synth_df\n",
    "\n",
    "suppressMessages(library(dplyr))\n",
    "\n",
    "real_n <- df %>%\n",
    "    count(sex) %>%\n",
    "    mutate(freq = n / sum(n))\n",
    "    \n",
    "male_n <- real_n[which(real_n$sex == 1), \"n\"]\n",
    "female_n <- real_n[which(real_n$sex == 2), \"n\"]\n",
    "\n",
    "synth_n <- synth_df %>%\n",
    "    count(sex) %>%\n",
    "    mutate(freq = n / sum(n),\n",
    "          p_score = case_when(sex == 1 ~ n / (n + male_n),\n",
    "                             sex == 2 ~ n / (n + female_n)))\n",
    "\n",
    "print(\"Frequency of sex: Real\")\n",
    "print(real_n)\n",
    "print(\"Frequency of sex: Synthetic\")\n",
    "print(synth_n)"
   ]
  },
  {
   "cell_type": "markdown",
   "id": "a771efee-855f-4956-a74e-8fc9bc55f08c",
   "metadata": {},
   "source": [
    "Since propensity score for sex is near 0.5, we can see the distribution of sex is similar between synthetic vs. real data."
   ]
  },
  {
   "cell_type": "markdown",
   "id": "39cdc193-c8c7-4ea8-845b-29b7245acdc3",
   "metadata": {},
   "source": [
    "### Using Synthpop"
   ]
  },
  {
   "cell_type": "markdown",
   "id": "529314d5-3f68-4b69-bcc1-03ad63264c16",
   "metadata": {},
   "source": [
    "First, we visualise the univariate distributions for each variable."
   ]
  },
  {
   "cell_type": "code",
   "execution_count": 102,
   "id": "b6e58287-25f8-4da8-9323-0dacebc4aeed",
   "metadata": {},
   "outputs": [
    {
     "name": "stdout",
     "output_type": "stream",
     "text": [
      "\n",
      "Comparing percentages observed with synthetic\n",
      "\n",
      "Press return for next variable(s): "
     ]
    },
    {
     "name": "stdin",
     "output_type": "stream",
     "text": [
      " \n"
     ]
    },
    {
     "name": "stdout",
     "output_type": "stream",
     "text": [
      "\n",
      "Selected utility measures:\n",
      "            S_pMSE df\n",
      "sex       0.677372  1\n",
      "sat_v    72.122627  4\n",
      "sat_m    94.920893  4\n",
      "sat_sum  92.463103  4\n",
      "hs_gpa  119.804384  4\n",
      "fy_gpa   74.855955  4\n"
     ]
    },
    {
     "data": {
      "image/png": "[encoded data removed]"
     },
     "metadata": {},
     "output_type": "display_data"
    },
    {
     "data": {
      "image/png": "[encoded data removed]"
     },
     "metadata": {},
     "output_type": "display_data"
    }
   ],
   "source": [
    "%%R -i df,synth_df\n",
    "\n",
    "library(synthpop)\n",
    "\n",
    "compare(synth_df, df, utility.stats = c(\"S_pMSE\", \"df\"))"
   ]
  },
  {
   "cell_type": "markdown",
   "id": "4db4ca2e-f543-4bda-af2e-b70c0694f848",
   "metadata": {},
   "source": [
    "Next we do...\n",
    "\n",
    "Propensity mean squared error (pMSE).\n",
    "\n",
    "Visualises utility for all two-way tables.\n",
    "\n",
    "A higher utility score is worse."
   ]
  },
  {
   "cell_type": "code",
   "execution_count": 104,
   "id": "c678a159-8516-4b19-95c4-172395acc59c",
   "metadata": {},
   "outputs": [
    {
     "name": "stdout",
     "output_type": "stream",
     "text": [
      "\n",
      "Two-way utility: S_pMSE value plotted for 15 pairs of variables.\n",
      "\n",
      "Variable combinations with worst 5 utility scores (S_pMSE):\n",
      "3.sat_m:4.sat_sum    1.sex:5.hs_gpa 2.sat_v:4.sat_sum   1.sex:4.sat_sum \n",
      "          63.8105           56.6619           54.7733           43.6127 \n",
      "    1.sex:3.sat_m \n",
      "          43.3808 \n",
      "\n",
      "Table of selected utility measures\n",
      "                          VW        FT    JSD SPECKS  WMabsDD        U\n",
      "1.sex:2.sat_v       343.3281  357.7190 0.0636  0.255  61.5157 665441.0\n",
      "1.sex:3.sat_m       390.4272  419.3243 0.0737  0.248  63.5488 669528.5\n",
      "1.sex:4.sat_sum     392.5139  411.4643 0.0730  0.274  67.4591 675795.0\n",
      "1.sex:5.hs_gpa      509.9574  573.9945 0.0991  0.280  69.9777 687125.5\n",
      "1.sex:6.fy_gpa      313.3263  334.6170 0.0590  0.216  54.0907 645860.5\n",
      "2.sat_v:3.sat_m     750.0031  870.5094 0.1480  0.378 151.2101 744917.5\n",
      "2.sat_v:4.sat_sum  1314.5602 1935.0688 0.2863  0.482 198.9882 824099.0\n",
      "2.sat_v:5.hs_gpa    862.1939  982.9102 0.1686  0.421 164.9066 759756.0\n",
      "2.sat_v:6.fy_gpa    733.1975  845.7728 0.1442  0.371 149.6085 743148.5\n",
      "3.sat_m:4.sat_sum  1531.4531 2150.3957 0.3276  0.562 226.3090 849268.5\n",
      "3.sat_m:5.hs_gpa    956.4866 1178.2963 0.1943  0.417 164.5779 775009.5\n",
      "3.sat_m:6.fy_gpa    756.5652  836.1826 0.1454  0.390 155.7430 747428.5\n",
      "4.sat_sum:5.hs_gpa  985.1685 1212.0209 0.1999  0.435 171.6968 778200.0\n",
      "4.sat_sum:6.fy_gpa  765.7787  876.6229 0.1498  0.393 158.3321 747692.5\n",
      "5.hs_gpa:6.fy_gpa  1039.3350 1356.8237 0.2160  0.438 174.3070 779348.5\n",
      "                           G   pMSE  PO50 MabsDD dBhatt    S_VW    S_FT   S_JSD\n",
      "1.sex:2.sat_v       370.8294 0.0215 12.75  0.510 0.2115 38.1476 39.7466 40.7881\n",
      "1.sex:3.sat_m       476.3939 0.0244 12.40  0.496 0.2289 43.3808 46.5916 47.2834\n",
      "1.sex:4.sat_sum     437.4056 0.0245 13.70  0.548 0.2268 43.6127 45.7183 46.8140\n",
      "1.sex:5.hs_gpa      705.2501 0.0319 14.00  0.560 0.2679 56.6619 63.7772 63.5545\n",
      "1.sex:6.fy_gpa      384.4572 0.0196 10.80  0.432 0.2045 34.8140 37.1797 37.8105\n",
      "2.sat_v:3.sat_m    1067.9020 0.0469 18.90  0.756 0.3299 31.2501 36.2712 35.5963\n",
      "2.sat_v:4.sat_sum   959.8014 0.0822 24.10  0.964 0.4918 54.7733 80.6279 68.8329\n",
      "2.sat_v:5.hs_gpa   1180.3795 0.0539 21.05  0.842 0.3505 35.9247 40.9546 40.5448\n",
      "2.sat_v:6.fy_gpa   1007.7302 0.0458 18.55  0.742 0.3251 30.5499 35.2405 34.6801\n",
      "3.sat_m:4.sat_sum  1594.2557 0.0957 28.10  1.124 0.5185 63.8105 89.5998 78.7767\n",
      "3.sat_m:5.hs_gpa   1662.5240 0.0598 20.85  0.834 0.3838 39.8536 49.0957 46.7249\n",
      "3.sat_m:6.fy_gpa    917.5413 0.0473 19.50  0.780 0.3233 31.5236 34.8409 34.9611\n",
      "4.sat_sum:5.hs_gpa 1718.4421 0.0616 21.75  0.870 0.3892 41.0487 50.5009 48.0564\n",
      "4.sat_sum:6.fy_gpa 1043.1650 0.0479 19.65  0.786 0.3310 31.9074 36.5260 36.0152\n",
      "5.hs_gpa:6.fy_gpa  1391.7985 0.0650 21.90  0.876 0.4118 43.3056 56.5343 51.9423\n",
      "                   S_WMabsDD     S_G  S_pMSE df dfG\n",
      "1.sex:2.sat_v         6.8351 41.2033 38.1476  9   9\n",
      "1.sex:3.sat_m         7.0610 52.9327 43.3808  9   9\n",
      "1.sex:4.sat_sum       7.4955 48.6006 43.6127  9   9\n",
      "1.sex:5.hs_gpa        7.7753 78.3611 56.6619  9   9\n",
      "1.sex:6.fy_gpa        6.0101 42.7175 34.8140  9   9\n",
      "2.sat_v:3.sat_m       6.3004 44.4959 31.2501 24  24\n",
      "2.sat_v:4.sat_sum     8.2912 50.5159 54.7733 24  19\n",
      "2.sat_v:5.hs_gpa      6.8711 49.1825 35.9247 24  24\n",
      "2.sat_v:6.fy_gpa      6.2337 41.9888 30.5499 24  24\n",
      "3.sat_m:4.sat_sum     9.4295 79.7128 63.8105 24  20\n",
      "3.sat_m:5.hs_gpa      6.8574 69.2718 39.8536 24  24\n",
      "3.sat_m:6.fy_gpa      6.4893 38.2309 31.5236 24  24\n",
      "4.sat_sum:5.hs_gpa    7.1540 71.6018 41.0487 24  24\n",
      "4.sat_sum:6.fy_gpa    6.5972 43.4652 31.9074 24  24\n",
      "5.hs_gpa:6.fy_gpa     7.2628 60.5130 43.3056 24  23\n"
     ]
    },
    {
     "data": {
      "image/png": "[encoded data removed]"
     },
     "metadata": {},
     "output_type": "display_data"
    }
   ],
   "source": [
    "%%R -i df,synth_df\n",
    "\n",
    "utility.tables(synth_df, df, tab.stats = \"all\", tables = \"twoway\", print.tabs = TRUE)"
   ]
  },
  {
   "cell_type": "code",
   "execution_count": 94,
   "id": "ef70e96e-f25e-4255-b4a5-aa4704ffea8c",
   "metadata": {},
   "outputs": [],
   "source": [
    "%%R\n",
    "\n",
    "?utility.tables"
   ]
  },
  {
   "cell_type": "code",
   "execution_count": 71,
   "id": "6aba66cf-1141-4c5c-8e99-b4bb6df9b188",
   "metadata": {},
   "outputs": [
    {
     "name": "stdout",
     "output_type": "stream",
     "text": [
      "\n",
      "Call:\n",
      "lm(formula = hs_gpa ~ fy_gpa, data = df)\n",
      "\n",
      "Coefficients:\n",
      "(Intercept)       fy_gpa  \n",
      "     2.2176       0.3973  \n",
      "\n",
      "\n",
      "Call:\n",
      "lm(formula = hs_gpa ~ fy_gpa, data = synth_df)\n",
      "\n",
      "Coefficients:\n",
      "(Intercept)       fy_gpa  \n",
      "     2.2605       0.1869  \n",
      "\n",
      "0.3591505 0.4354067 0.1390901 0.2347514[1] -1.465871\n"
     ]
    }
   ],
   "source": [
    "%%R -i df,synth_df\n",
    "# Imports both dataframes from global environment\n",
    "\n",
    "# Does high school GPA predict first year uni GPA?\n",
    "real_coeff <- lm(hs_gpa ~ fy_gpa, data = df)\n",
    "synth_coeff <- lm(hs_gpa ~ fy_gpa, data = synth_df)\n",
    "\n",
    "print(real_coeff)\n",
    "print(synth_coeff)\n",
    "\n",
    "# Confidence interval overlap\n",
    "ci_real_low <- confint(real_coeff, 'fy_gpa', level=0.95)[1]\n",
    "ci_real_high <- confint(real_coeff, 'fy_gpa', level=0.95)[2]\n",
    "ci_synth_low <- confint(synth_coeff, 'fy_gpa', level=0.95)[1]\n",
    "ci_synth_high <- confint(synth_coeff, 'fy_gpa', level=0.95)[2]\n",
    "\n",
    "cat(ci_real_low, ci_real_high, ci_synth_low, ci_synth_high)\n",
    "\n",
    "io <- 0.5 * (\n",
    "    (min(ci_real_high, ci_synth_high) - max(ci_real_low, ci_synth_low))/(ci_real_high - ci_real_low) +\n",
    "    (min(ci_real_high, ci_synth_high) - max(ci_real_low, ci_synth_low))/(ci_synth_high - ci_synth_low)\n",
    ")\n",
    "\n",
    "print(io)"
   ]
  },
  {
   "cell_type": "code",
   "execution_count": 72,
   "id": "93f71d4f-592e-4cbe-8e93-b5b3ba21b25b",
   "metadata": {},
   "outputs": [
    {
     "name": "stdout",
     "output_type": "stream",
     "text": [
      "[1] 0.04433257\n"
     ]
    },
    {
     "data": {
      "image/png": "[encoded data removed]"
     },
     "metadata": {},
     "output_type": "display_data"
    }
   ],
   "source": [
    "%%R -i df,synth_df\n",
    "# Imports both dataframes from global environment\n",
    "\n",
    "print(cor(df$hs_gpa, synth_df$hs_gpa))\n",
    "plot(df$hs_gpa, synth_df$hs_gpa, type = \"p\")"
   ]
  }
 ],
 "metadata": {
  "kernelspec": {
   "display_name": "kooste-Y9QsWDTI",
   "language": "python",
   "name": "kooste-y9qswdti"
  },
  "language_info": {
   "codemirror_mode": {
    "name": "ipython",
    "version": 3
   },
   "file_extension": ".py",
   "mimetype": "text/x-python",
   "name": "python",
   "nbconvert_exporter": "python",
   "pygments_lexer": "ipython3",
   "version": "3.8.10"
  }
 },
 "nbformat": 4,
 "nbformat_minor": 5
}
