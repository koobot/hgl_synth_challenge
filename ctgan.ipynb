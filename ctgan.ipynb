{
 "cells": [
  {
   "cell_type": "markdown",
   "id": "c4be781c-2854-471e-aba5-c41062943de2",
   "metadata": {},
   "source": [
    "# Using CTGAN to synthesise data\n",
    "\n",
    "Source: https://github.com/sdv-dev/CTGAN\n",
    "\n",
    "- Uses Python to generate synthetic data\n",
    "- Uses R for evaluation "
   ]
  },
  {
   "cell_type": "code",
   "execution_count": 1,
   "id": "4d45425d-b171-4b14-94dd-59c5abcb703c",
   "metadata": {},
   "outputs": [],
   "source": [
    "from ctgan import CTGANSynthesizer\n",
    "import pandas as pd\n",
    "import numpy as np\n",
    "import matplotlib.pyplot as plt"
   ]
  },
  {
   "cell_type": "markdown",
   "id": "b1708f4f-39fd-4765-9968-bf9732438b47",
   "metadata": {},
   "source": [
    "## Load dataset"
   ]
  },
  {
   "cell_type": "code",
   "execution_count": 2,
   "id": "72b7656a-8dfb-4ebd-9273-a7181b368417",
   "metadata": {},
   "outputs": [
    {
     "name": "stdout",
     "output_type": "stream",
     "text": [
      "<class 'pandas.core.frame.DataFrame'>\n",
      "RangeIndex: 1000 entries, 0 to 999\n",
      "Data columns (total 6 columns):\n",
      " #   Column   Non-Null Count  Dtype  \n",
      "---  ------   --------------  -----  \n",
      " 0   sex      1000 non-null   int64  \n",
      " 1   sat_v    1000 non-null   int64  \n",
      " 2   sat_m    1000 non-null   int64  \n",
      " 3   sat_sum  1000 non-null   int64  \n",
      " 4   hs_gpa   1000 non-null   float64\n",
      " 5   fy_gpa   1000 non-null   float64\n",
      "dtypes: float64(2), int64(4)\n",
      "memory usage: 47.0 KB\n"
     ]
    }
   ],
   "source": [
    "df = pd.read_csv(\"./original_data/satgpa.csv\")\n",
    "df.info()"
   ]
  },
  {
   "cell_type": "code",
   "execution_count": 14,
   "id": "019fd29a-2ddd-4ca4-945b-706bcb4cb441",
   "metadata": {},
   "outputs": [
    {
     "data": {
      "text/html": [
       "<div>\n",
       "<style scoped>\n",
       "    .dataframe tbody tr th:only-of-type {\n",
       "        vertical-align: middle;\n",
       "    }\n",
       "\n",
       "    .dataframe tbody tr th {\n",
       "        vertical-align: top;\n",
       "    }\n",
       "\n",
       "    .dataframe thead th {\n",
       "        text-align: right;\n",
       "    }\n",
       "</style>\n",
       "<table border=\"1\" class=\"dataframe\">\n",
       "  <thead>\n",
       "    <tr style=\"text-align: right;\">\n",
       "      <th></th>\n",
       "      <th>sex</th>\n",
       "      <th>sat_v</th>\n",
       "      <th>sat_m</th>\n",
       "      <th>sat_sum</th>\n",
       "      <th>hs_gpa</th>\n",
       "      <th>fy_gpa</th>\n",
       "    </tr>\n",
       "  </thead>\n",
       "  <tbody>\n",
       "    <tr>\n",
       "      <th>0</th>\n",
       "      <td>1</td>\n",
       "      <td>65</td>\n",
       "      <td>62</td>\n",
       "      <td>127</td>\n",
       "      <td>3.40</td>\n",
       "      <td>3.18</td>\n",
       "    </tr>\n",
       "    <tr>\n",
       "      <th>1</th>\n",
       "      <td>2</td>\n",
       "      <td>58</td>\n",
       "      <td>64</td>\n",
       "      <td>122</td>\n",
       "      <td>4.00</td>\n",
       "      <td>3.33</td>\n",
       "    </tr>\n",
       "    <tr>\n",
       "      <th>2</th>\n",
       "      <td>2</td>\n",
       "      <td>56</td>\n",
       "      <td>60</td>\n",
       "      <td>116</td>\n",
       "      <td>3.75</td>\n",
       "      <td>3.25</td>\n",
       "    </tr>\n",
       "    <tr>\n",
       "      <th>3</th>\n",
       "      <td>1</td>\n",
       "      <td>42</td>\n",
       "      <td>53</td>\n",
       "      <td>95</td>\n",
       "      <td>3.75</td>\n",
       "      <td>2.42</td>\n",
       "    </tr>\n",
       "    <tr>\n",
       "      <th>4</th>\n",
       "      <td>1</td>\n",
       "      <td>55</td>\n",
       "      <td>52</td>\n",
       "      <td>107</td>\n",
       "      <td>4.00</td>\n",
       "      <td>2.63</td>\n",
       "    </tr>\n",
       "  </tbody>\n",
       "</table>\n",
       "</div>"
      ],
      "text/plain": [
       "   sex  sat_v  sat_m  sat_sum  hs_gpa  fy_gpa\n",
       "0    1     65     62      127    3.40    3.18\n",
       "1    2     58     64      122    4.00    3.33\n",
       "2    2     56     60      116    3.75    3.25\n",
       "3    1     42     53       95    3.75    2.42\n",
       "4    1     55     52      107    4.00    2.63"
      ]
     },
     "execution_count": 14,
     "metadata": {},
     "output_type": "execute_result"
    }
   ],
   "source": [
    "df.head()"
   ]
  },
  {
   "cell_type": "code",
   "execution_count": 3,
   "id": "5b57b641-2fa8-417f-9132-673f4824d00e",
   "metadata": {},
   "outputs": [],
   "source": [
    "# Set discrete columns\n",
    "discrete_cols = [\n",
    "    'sex'\n",
    "]"
   ]
  },
  {
   "cell_type": "markdown",
   "id": "162aef68-8a53-49fb-a4d2-885c45ff6ba3",
   "metadata": {},
   "source": [
    "## Generate synthetic data"
   ]
  },
  {
   "cell_type": "markdown",
   "id": "6e48a13d-ce3b-4444-bfd1-8b4574e62d4b",
   "metadata": {},
   "source": [
    "Since the variable `sat_sum` is the sum of `sat_v` and `sat_m`, we need to drop the column before generating synthetic data."
   ]
  },
  {
   "cell_type": "code",
   "execution_count": 21,
   "id": "14603b98-87f4-4829-a9e8-7002a53ec3db",
   "metadata": {},
   "outputs": [
    {
     "data": {
      "text/html": [
       "<div>\n",
       "<style scoped>\n",
       "    .dataframe tbody tr th:only-of-type {\n",
       "        vertical-align: middle;\n",
       "    }\n",
       "\n",
       "    .dataframe tbody tr th {\n",
       "        vertical-align: top;\n",
       "    }\n",
       "\n",
       "    .dataframe thead th {\n",
       "        text-align: right;\n",
       "    }\n",
       "</style>\n",
       "<table border=\"1\" class=\"dataframe\">\n",
       "  <thead>\n",
       "    <tr style=\"text-align: right;\">\n",
       "      <th></th>\n",
       "      <th>sex</th>\n",
       "      <th>sat_v</th>\n",
       "      <th>sat_m</th>\n",
       "      <th>hs_gpa</th>\n",
       "      <th>fy_gpa</th>\n",
       "    </tr>\n",
       "  </thead>\n",
       "  <tbody>\n",
       "    <tr>\n",
       "      <th>0</th>\n",
       "      <td>1</td>\n",
       "      <td>65</td>\n",
       "      <td>62</td>\n",
       "      <td>3.40</td>\n",
       "      <td>3.18</td>\n",
       "    </tr>\n",
       "    <tr>\n",
       "      <th>1</th>\n",
       "      <td>2</td>\n",
       "      <td>58</td>\n",
       "      <td>64</td>\n",
       "      <td>4.00</td>\n",
       "      <td>3.33</td>\n",
       "    </tr>\n",
       "    <tr>\n",
       "      <th>2</th>\n",
       "      <td>2</td>\n",
       "      <td>56</td>\n",
       "      <td>60</td>\n",
       "      <td>3.75</td>\n",
       "      <td>3.25</td>\n",
       "    </tr>\n",
       "    <tr>\n",
       "      <th>3</th>\n",
       "      <td>1</td>\n",
       "      <td>42</td>\n",
       "      <td>53</td>\n",
       "      <td>3.75</td>\n",
       "      <td>2.42</td>\n",
       "    </tr>\n",
       "    <tr>\n",
       "      <th>4</th>\n",
       "      <td>1</td>\n",
       "      <td>55</td>\n",
       "      <td>52</td>\n",
       "      <td>4.00</td>\n",
       "      <td>2.63</td>\n",
       "    </tr>\n",
       "  </tbody>\n",
       "</table>\n",
       "</div>"
      ],
      "text/plain": [
       "   sex  sat_v  sat_m  hs_gpa  fy_gpa\n",
       "0    1     65     62    3.40    3.18\n",
       "1    2     58     64    4.00    3.33\n",
       "2    2     56     60    3.75    3.25\n",
       "3    1     42     53    3.75    2.42\n",
       "4    1     55     52    4.00    2.63"
      ]
     },
     "execution_count": 21,
     "metadata": {},
     "output_type": "execute_result"
    }
   ],
   "source": [
    "df_copy = df.copy(deep=True)\n",
    "\n",
    "df_copy = df_copy.drop(columns=['sat_sum'])\n",
    "\n",
    "df_copy.head()"
   ]
  },
  {
   "cell_type": "code",
   "execution_count": 18,
   "id": "d408d438-8bf2-4ade-a28b-6bfa1f470e2f",
   "metadata": {},
   "outputs": [
    {
     "name": "stderr",
     "output_type": "stream",
     "text": [
      "C:\\Users\\kooste\\.virtualenvs\\kooste-Y9QsWDTI\\lib\\site-packages\\sklearn\\mixture\\_base.py:265: ConvergenceWarning: Initialization 1 did not converge. Try different init parameters, or increase max_iter, tol or check for degenerate data.\n",
      "  warnings.warn('Initialization %d did not converge. '\n",
      "C:\\Users\\kooste\\.virtualenvs\\kooste-Y9QsWDTI\\lib\\site-packages\\sklearn\\mixture\\_base.py:265: ConvergenceWarning: Initialization 1 did not converge. Try different init parameters, or increase max_iter, tol or check for degenerate data.\n",
      "  warnings.warn('Initialization %d did not converge. '\n",
      "C:\\Users\\kooste\\.virtualenvs\\kooste-Y9QsWDTI\\lib\\site-packages\\sklearn\\mixture\\_base.py:265: ConvergenceWarning: Initialization 1 did not converge. Try different init parameters, or increase max_iter, tol or check for degenerate data.\n",
      "  warnings.warn('Initialization %d did not converge. '\n",
      "C:\\Users\\kooste\\.virtualenvs\\kooste-Y9QsWDTI\\lib\\site-packages\\sklearn\\mixture\\_base.py:265: ConvergenceWarning: Initialization 1 did not converge. Try different init parameters, or increase max_iter, tol or check for degenerate data.\n",
      "  warnings.warn('Initialization %d did not converge. '\n"
     ]
    }
   ],
   "source": [
    "# Initialise and fit GAN\n",
    "model = CTGANSynthesizer(batch_size=250, discriminator_steps=3, generator_lr=2e-3, discriminator_lr=2e-3)\n",
    "model.fit(df_copy, discrete_cols)"
   ]
  },
  {
   "cell_type": "markdown",
   "id": "ce0f857d-7733-4443-91b4-3f7540ceedf0",
   "metadata": {},
   "source": [
    "Can ignore warnings as per developer's comments: https://github.com/sdv-dev/SDGym/issues/44"
   ]
  },
  {
   "cell_type": "code",
   "execution_count": 19,
   "id": "90eb68a8-c506-4c2d-ac57-c1fb333ffdef",
   "metadata": {},
   "outputs": [],
   "source": [
    "synth_df = model.sample(1000)"
   ]
  },
  {
   "cell_type": "code",
   "execution_count": 20,
   "id": "65d9e0ac-918d-4a25-a1d5-5f9cb48e4eab",
   "metadata": {},
   "outputs": [
    {
     "data": {
      "text/html": [
       "<div>\n",
       "<style scoped>\n",
       "    .dataframe tbody tr th:only-of-type {\n",
       "        vertical-align: middle;\n",
       "    }\n",
       "\n",
       "    .dataframe tbody tr th {\n",
       "        vertical-align: top;\n",
       "    }\n",
       "\n",
       "    .dataframe thead th {\n",
       "        text-align: right;\n",
       "    }\n",
       "</style>\n",
       "<table border=\"1\" class=\"dataframe\">\n",
       "  <thead>\n",
       "    <tr style=\"text-align: right;\">\n",
       "      <th></th>\n",
       "      <th>sex</th>\n",
       "      <th>sat_v</th>\n",
       "      <th>sat_m</th>\n",
       "      <th>hs_gpa</th>\n",
       "      <th>fy_gpa</th>\n",
       "    </tr>\n",
       "  </thead>\n",
       "  <tbody>\n",
       "    <tr>\n",
       "      <th>0</th>\n",
       "      <td>1</td>\n",
       "      <td>46</td>\n",
       "      <td>46</td>\n",
       "      <td>2.687051</td>\n",
       "      <td>1.831997</td>\n",
       "    </tr>\n",
       "    <tr>\n",
       "      <th>1</th>\n",
       "      <td>2</td>\n",
       "      <td>42</td>\n",
       "      <td>57</td>\n",
       "      <td>2.984383</td>\n",
       "      <td>1.633556</td>\n",
       "    </tr>\n",
       "    <tr>\n",
       "      <th>2</th>\n",
       "      <td>1</td>\n",
       "      <td>44</td>\n",
       "      <td>48</td>\n",
       "      <td>2.656724</td>\n",
       "      <td>2.752115</td>\n",
       "    </tr>\n",
       "    <tr>\n",
       "      <th>3</th>\n",
       "      <td>1</td>\n",
       "      <td>52</td>\n",
       "      <td>59</td>\n",
       "      <td>2.627774</td>\n",
       "      <td>3.301292</td>\n",
       "    </tr>\n",
       "    <tr>\n",
       "      <th>4</th>\n",
       "      <td>1</td>\n",
       "      <td>50</td>\n",
       "      <td>45</td>\n",
       "      <td>2.595438</td>\n",
       "      <td>1.590625</td>\n",
       "    </tr>\n",
       "  </tbody>\n",
       "</table>\n",
       "</div>"
      ],
      "text/plain": [
       "   sex  sat_v  sat_m    hs_gpa    fy_gpa\n",
       "0    1     46     46  2.687051  1.831997\n",
       "1    2     42     57  2.984383  1.633556\n",
       "2    1     44     48  2.656724  2.752115\n",
       "3    1     52     59  2.627774  3.301292\n",
       "4    1     50     45  2.595438  1.590625"
      ]
     },
     "execution_count": 20,
     "metadata": {},
     "output_type": "execute_result"
    }
   ],
   "source": [
    "synth_df.head()"
   ]
  },
  {
   "cell_type": "code",
   "execution_count": 24,
   "id": "b8c343ad-bfbd-48ba-98f7-f5a7a166889b",
   "metadata": {},
   "outputs": [
    {
     "data": {
      "text/html": [
       "<div>\n",
       "<style scoped>\n",
       "    .dataframe tbody tr th:only-of-type {\n",
       "        vertical-align: middle;\n",
       "    }\n",
       "\n",
       "    .dataframe tbody tr th {\n",
       "        vertical-align: top;\n",
       "    }\n",
       "\n",
       "    .dataframe thead th {\n",
       "        text-align: right;\n",
       "    }\n",
       "</style>\n",
       "<table border=\"1\" class=\"dataframe\">\n",
       "  <thead>\n",
       "    <tr style=\"text-align: right;\">\n",
       "      <th></th>\n",
       "      <th>sex</th>\n",
       "      <th>sat_v</th>\n",
       "      <th>sat_m</th>\n",
       "      <th>sat_sum</th>\n",
       "      <th>hs_gpa</th>\n",
       "      <th>fy_gpa</th>\n",
       "    </tr>\n",
       "  </thead>\n",
       "  <tbody>\n",
       "    <tr>\n",
       "      <th>0</th>\n",
       "      <td>1</td>\n",
       "      <td>46</td>\n",
       "      <td>46</td>\n",
       "      <td>92</td>\n",
       "      <td>2.69</td>\n",
       "      <td>1.83</td>\n",
       "    </tr>\n",
       "    <tr>\n",
       "      <th>1</th>\n",
       "      <td>2</td>\n",
       "      <td>42</td>\n",
       "      <td>57</td>\n",
       "      <td>99</td>\n",
       "      <td>2.98</td>\n",
       "      <td>1.63</td>\n",
       "    </tr>\n",
       "    <tr>\n",
       "      <th>2</th>\n",
       "      <td>1</td>\n",
       "      <td>44</td>\n",
       "      <td>48</td>\n",
       "      <td>92</td>\n",
       "      <td>2.66</td>\n",
       "      <td>2.75</td>\n",
       "    </tr>\n",
       "    <tr>\n",
       "      <th>3</th>\n",
       "      <td>1</td>\n",
       "      <td>52</td>\n",
       "      <td>59</td>\n",
       "      <td>111</td>\n",
       "      <td>2.63</td>\n",
       "      <td>3.30</td>\n",
       "    </tr>\n",
       "    <tr>\n",
       "      <th>4</th>\n",
       "      <td>1</td>\n",
       "      <td>50</td>\n",
       "      <td>45</td>\n",
       "      <td>95</td>\n",
       "      <td>2.60</td>\n",
       "      <td>1.59</td>\n",
       "    </tr>\n",
       "  </tbody>\n",
       "</table>\n",
       "</div>"
      ],
      "text/plain": [
       "   sex  sat_v  sat_m  sat_sum  hs_gpa  fy_gpa\n",
       "0    1     46     46       92    2.69    1.83\n",
       "1    2     42     57       99    2.98    1.63\n",
       "2    1     44     48       92    2.66    2.75\n",
       "3    1     52     59      111    2.63    3.30\n",
       "4    1     50     45       95    2.60    1.59"
      ]
     },
     "execution_count": 24,
     "metadata": {},
     "output_type": "execute_result"
    }
   ],
   "source": [
    "# Add sat_sum back on\n",
    "sat_sum = synth_df['sat_v'] + synth_df['sat_m']\n",
    "synth_df.insert(loc=3, column='sat_sum', value=sat_sum)\n",
    "\n",
    "# Round to 2-decimal places\n",
    "synth_df = synth_df.round(2)\n",
    "\n",
    "synth_df.head()"
   ]
  },
  {
   "cell_type": "code",
   "execution_count": 25,
   "id": "3c5b7145-bb77-4fd9-a6c8-a0e8631ca1a1",
   "metadata": {},
   "outputs": [],
   "source": [
    "# Paths\n",
    "synth_model = \"./synth_data/ctgan_model.pkl\"\n",
    "synth_output = \"./synth_data/ctgan_method.csv\"\n",
    "\n",
    "# Output\n",
    "model.save(synth_model)\n",
    "synth_df.to_csv(synth_output, sep=\",\")"
   ]
  },
  {
   "cell_type": "markdown",
   "id": "b592cf85-0237-4d2b-b0a9-30a02982bdc6",
   "metadata": {},
   "source": [
    "## Evaluation\n",
    "\n",
    "We used an R package called Synthpop to perform evaluations. This lets us compare with CART methods."
   ]
  },
  {
   "cell_type": "code",
   "execution_count": 6,
   "id": "c7596e11-1f36-4971-9e5c-335c4059a93e",
   "metadata": {},
   "outputs": [],
   "source": [
    "# Read in synth data\n",
    "synth_df = pd.read_csv(synth_output)"
   ]
  },
  {
   "cell_type": "code",
   "execution_count": 8,
   "id": "cd269461-f5f2-4fa8-8a04-e8ee14136a7f",
   "metadata": {},
   "outputs": [
    {
     "name": "stderr",
     "output_type": "stream",
     "text": [
      "C:\\Users\\kooste\\.virtualenvs\\kooste-Y9QsWDTI\\lib\\site-packages\\rpy2\\robjects\\packages.py:366: UserWarning: The symbol 'quartz' is not in this R namespace/package.\n",
      "  warnings.warn(\n"
     ]
    }
   ],
   "source": [
    "# Enables R in the notebook, only need to run once\n",
    "%load_ext rpy2.ipython"
   ]
  },
  {
   "cell_type": "markdown",
   "id": "529314d5-3f68-4b69-bcc1-03ad63264c16",
   "metadata": {},
   "source": [
    "### Visualise\n",
    "First, we visualise the univariate distributions for each variable."
   ]
  },
  {
   "cell_type": "code",
   "execution_count": 28,
   "id": "b6e58287-25f8-4da8-9323-0dacebc4aeed",
   "metadata": {},
   "outputs": [
    {
     "name": "stderr",
     "output_type": "stream",
     "text": [
      "R[write to console]: Find out more at https://www.synthpop.org.uk/\n",
      "\n"
     ]
    },
    {
     "name": "stdout",
     "output_type": "stream",
     "text": [
      "\n",
      "Comparing percentages observed with synthetic\n",
      "\n",
      "Press return for next variable(s): "
     ]
    },
    {
     "name": "stdin",
     "output_type": "stream",
     "text": [
      " \n"
     ]
    },
    {
     "name": "stdout",
     "output_type": "stream",
     "text": [
      "\n",
      "Selected utility measures:\n",
      "           S_pMSE df\n",
      "sex      1.444244  1\n",
      "sat_v    9.512296  4\n",
      "sat_m    5.617619  4\n",
      "sat_sum 10.111462  4\n",
      "hs_gpa  10.411141  4\n",
      "fy_gpa  15.345299  4\n"
     ]
    },
    {
     "data": {
      "image/png": "[encoded data removed]"
     },
     "metadata": {},
     "output_type": "display_data"
    },
    {
     "data": {
      "image/png": "[encoded data removed]"
     },
     "metadata": {},
     "output_type": "display_data"
    }
   ],
   "source": [
    "%%R -i df,synth_df\n",
    "\n",
    "library(synthpop)\n",
    "\n",
    "synthpop::compare(synth_df, df, utility.stats = c(\"S_pMSE\", \"df\"))"
   ]
  },
  {
   "cell_type": "markdown",
   "id": "4db4ca2e-f543-4bda-af2e-b70c0694f848",
   "metadata": {},
   "source": [
    "### Utility scores\n",
    "\n",
    "Visualises utility for all two-way tables.\n",
    "\n",
    "A higher utility score is worse."
   ]
  },
  {
   "cell_type": "code",
   "execution_count": 29,
   "id": "c678a159-8516-4b19-95c4-172395acc59c",
   "metadata": {},
   "outputs": [
    {
     "name": "stdout",
     "output_type": "stream",
     "text": [
      "\n",
      "Two-way utility: S_pMSE value plotted for 15 pairs of variables.\n",
      "\n",
      "Variable combinations with worst 5 utility scores (S_pMSE):\n",
      "5.hs_gpa:6.fy_gpa   2.sat_v:3.sat_m  2.sat_v:6.fy_gpa  2.sat_v:5.hs_gpa \n",
      "          13.0363            9.7939            8.4389            8.4284 \n",
      "   1.sex:6.fy_gpa \n",
      "           8.0129 \n",
      "\n",
      "Table of selected utility measures\n",
      "                         VW       FT    JSD SPECKS WMabsDD        U        G\n",
      "1.sex:2.sat_v       45.1411  45.4878 0.0082  0.076 19.2540 556479.5  46.6655\n",
      "1.sex:3.sat_m       43.8940  44.2711 0.0080  0.083 21.7217 555625.0  45.9815\n",
      "1.sex:4.sat_sum     53.0591  53.4312 0.0096  0.096 24.0701 565717.5  53.4057\n",
      "1.sex:5.hs_gpa      51.7516  52.0501 0.0094  0.101 24.7867 564452.0  52.3766\n",
      "1.sex:6.fy_gpa      72.1161  72.8312 0.0131  0.109 27.3085 574574.5  71.9464\n",
      "2.sat_v:3.sat_m    235.0525 247.5933 0.0438  0.190 77.3385 634603.5 267.2205\n",
      "2.sat_v:4.sat_sum  180.5507 202.6222 0.0345  0.157 69.3222 611221.5 199.5155\n",
      "2.sat_v:5.hs_gpa   202.2808 211.3508 0.0375  0.177 71.5561 625632.5 221.4397\n",
      "2.sat_v:6.fy_gpa   202.5334 208.0237 0.0372  0.192 73.4155 628314.0 208.0878\n",
      "3.sat_m:4.sat_sum  172.9820 190.3601 0.0329  0.166 71.8090 610121.0 205.3306\n",
      "3.sat_m:5.hs_gpa   117.2184 122.2141 0.0217  0.126 51.3752 591684.5 131.4465\n",
      "3.sat_m:6.fy_gpa   157.5752 162.0302 0.0289  0.163 64.8776 611767.5 162.8756\n",
      "4.sat_sum:5.hs_gpa 153.0605 159.7697 0.0284  0.147 57.8231 606162.0 169.1766\n",
      "4.sat_sum:6.fy_gpa 184.4955 192.0877 0.0342  0.166 64.3444 614021.5 181.6124\n",
      "5.hs_gpa:6.fy_gpa  312.8710 333.7416 0.0588  0.225 90.6170 655604.0 362.0342\n",
      "                     pMSE  PO50 MabsDD dBhatt    S_VW    S_FT   S_JSD S_WMabsDD\n",
      "1.sex:2.sat_v      0.0028  3.80  0.152 0.0754  5.0157  5.0542  5.2464    2.1393\n",
      "1.sex:3.sat_m      0.0027  4.15  0.166 0.0744  4.8771  4.9190  5.1045    2.4135\n",
      "1.sex:4.sat_sum    0.0033  4.80  0.192 0.0817  5.8955  5.9368  6.1639    2.6745\n",
      "1.sex:5.hs_gpa     0.0032  5.05  0.202 0.0807  5.7502  5.7833  6.0071    2.7541\n",
      "1.sex:6.fy_gpa     0.0045  5.45  0.218 0.0954  8.0129  8.0924  8.3938    3.0343\n",
      "2.sat_v:3.sat_m    0.0147  9.50  0.380 0.1759  9.7939 10.3164 10.5417    3.2224\n",
      "2.sat_v:4.sat_sum  0.0113  7.85  0.314 0.1591  7.8500  8.8097  8.6670    3.0140\n",
      "2.sat_v:5.hs_gpa   0.0126  8.85  0.354 0.1625  8.4284  8.8063  9.0255    2.9815\n",
      "2.sat_v:6.fy_gpa   0.0127  9.60  0.384 0.1613  8.4389  8.6677  8.9388    3.0590\n",
      "3.sat_m:4.sat_sum  0.0108  8.30  0.332 0.1543  7.2076  7.9317  7.8991    2.9920\n",
      "3.sat_m:5.hs_gpa   0.0073  6.30  0.252 0.1236  4.8841  5.0923  5.2217    2.1406\n",
      "3.sat_m:6.fy_gpa   0.0098  8.15  0.326 0.1423  6.5656  6.7513  6.9593    2.7032\n",
      "4.sat_sum:5.hs_gpa 0.0096  7.35  0.294 0.1413  6.3775  6.6571  6.8250    2.4093\n",
      "4.sat_sum:6.fy_gpa 0.0115  8.30  0.332 0.1550  7.6873  8.0037  8.2146    2.6810\n",
      "5.hs_gpa:6.fy_gpa  0.0196 11.25  0.450 0.2042 13.0363 13.9059 14.1448    3.7757\n",
      "                       S_G  S_pMSE df dfG\n",
      "1.sex:2.sat_v       5.1851  5.0157  9   9\n",
      "1.sex:3.sat_m       5.1091  4.8771  9   9\n",
      "1.sex:4.sat_sum     5.9340  5.8955  9   9\n",
      "1.sex:5.hs_gpa      5.8196  5.7502  9   9\n",
      "1.sex:6.fy_gpa      7.9940  8.0129  9   9\n",
      "2.sat_v:3.sat_m    11.1342  9.7939 24  24\n",
      "2.sat_v:4.sat_sum   9.5007  7.8500 23  21\n",
      "2.sat_v:5.hs_gpa    9.2267  8.4284 24  24\n",
      "2.sat_v:6.fy_gpa    8.6703  8.4389 24  24\n",
      "3.sat_m:4.sat_sum   9.3332  7.2076 24  22\n",
      "3.sat_m:5.hs_gpa    5.4769  4.8841 24  24\n",
      "3.sat_m:6.fy_gpa    6.7865  6.5656 24  24\n",
      "4.sat_sum:5.hs_gpa  7.0490  6.3775 24  24\n",
      "4.sat_sum:6.fy_gpa  7.5672  7.6873 24  24\n",
      "5.hs_gpa:6.fy_gpa  15.0848 13.0363 24  24\n"
     ]
    },
    {
     "data": {
      "image/png": "[encoded data removed]"
     },
     "metadata": {},
     "output_type": "display_data"
    }
   ],
   "source": [
    "%%R -i df,synth_df\n",
    "\n",
    "utility.tables(synth_df, df, tab.stats = \"all\", tables = \"twoway\", print.tabs = TRUE)"
   ]
  },
  {
   "cell_type": "markdown",
   "id": "7ae4bd15-27e5-4959-a27b-1b8fdc7382b4",
   "metadata": {},
   "source": [
    "## Testing different parameters for write up"
   ]
  },
  {
   "cell_type": "code",
   "execution_count": 41,
   "id": "fff37fb7-1362-4a85-98c6-fd3334e073ac",
   "metadata": {},
   "outputs": [],
   "source": [
    "from datetime import datetime\n",
    "\n",
    "def run_ctgan(*args, **kwargs):\n",
    "    \"\"\" Easy way to alter hyperparameters for CTGAN.\n",
    "    Depends: on the post_process()\n",
    "    Returns: synthetic dataset with sample size = 1000\n",
    "    Also prints crude measure of run time for model. \"\"\"\n",
    "    # Model generation\n",
    "    start_time = datetime.now()\n",
    "    model = CTGANSynthesizer(*args, **kwargs)\n",
    "    model.fit(df_copy, discrete_cols)\n",
    "    end_time = datetime.now()\n",
    "    run_time = end_time - start_time\n",
    "    print(\"Run time: \", run_time)\n",
    "    # Generate synthetic data\n",
    "    synth_df = model.sample(1000)\n",
    "    synth_df = post_process(synth_df)\n",
    "    return(synth_df)\n",
    "\n",
    "# Set up post-processing pipeline\n",
    "def post_process(df):\n",
    "    # Add sat_sum back on\n",
    "    sat_sum = df['sat_v'] + df['sat_m']\n",
    "    df.insert(loc=3, column='sat_sum', value=sat_sum)\n",
    "    # Round to 2-decimal places\n",
    "    df = df.round(2)\n",
    "    return(df)"
   ]
  },
  {
   "cell_type": "code",
   "execution_count": 11,
   "id": "9d3eaaca-b23b-4348-a0bd-ef382ec812d2",
   "metadata": {},
   "outputs": [],
   "source": [
    "import warnings\n",
    "warnings.filterwarnings('ignore')"
   ]
  },
  {
   "cell_type": "code",
   "execution_count": 14,
   "id": "ef2a43aa-4837-4e0c-8fc8-99eedfd2d348",
   "metadata": {},
   "outputs": [
    {
     "name": "stdout",
     "output_type": "stream",
     "text": [
      "The rpy2.ipython extension is already loaded. To reload it, use:\n",
      "  %reload_ext rpy2.ipython\n"
     ]
    }
   ],
   "source": [
    "# Enables R in the notebook, only need to run once\n",
    "%load_ext rpy2.ipython"
   ]
  },
  {
   "cell_type": "code",
   "execution_count": 18,
   "id": "733158f3-6f49-4aa3-b877-f1c43f903e2f",
   "metadata": {},
   "outputs": [
    {
     "name": "stderr",
     "output_type": "stream",
     "text": [
      "R[write to console]: Find out more at https://www.synthpop.org.uk/\n",
      "\n"
     ]
    }
   ],
   "source": [
    "%%R\n",
    "library(synthpop)"
   ]
  },
  {
   "cell_type": "markdown",
   "id": "0769b999-61cd-4b1a-95ee-0ec8c393112d",
   "metadata": {},
   "source": [
    "### Varying batch size"
   ]
  },
  {
   "cell_type": "markdown",
   "id": "bafd80a6-2ab3-4b0a-b5f6-2d1f912c4bee",
   "metadata": {},
   "source": [
    "#### Default"
   ]
  },
  {
   "cell_type": "code",
   "execution_count": 42,
   "id": "220c3879-c4c7-4522-9373-f81550dc16d8",
   "metadata": {},
   "outputs": [
    {
     "name": "stdout",
     "output_type": "stream",
     "text": [
      "Run time:  0:00:54.696163\n"
     ]
    }
   ],
   "source": [
    "synth_df = run_ctgan(batch_size=500)"
   ]
  },
  {
   "cell_type": "code",
   "execution_count": 43,
   "id": "0a662309-29e1-4d7b-b55f-4a5cec8691a3",
   "metadata": {},
   "outputs": [
    {
     "name": "stdout",
     "output_type": "stream",
     "text": [
      "\n",
      "Two-way utility: S_pMSE value plotted for 15 pairs of variables.\n",
      "\n",
      "Variable combinations with worst 5 utility scores (S_pMSE):\n",
      "    1.sex:2.sat_v   2.sat_v:3.sat_m 2.sat_v:4.sat_sum  2.sat_v:6.fy_gpa \n",
      "          74.9613           41.7802           39.9850           38.7384 \n",
      " 2.sat_v:5.hs_gpa \n",
      "          38.5989 \n",
      "\n",
      "Medians and maxima of selected utility measures for all tables compared\n",
      "     Medians Maxima\n",
      "pMSE    0.04 0.0627\n",
      "\n",
      "For more details of all scores use print.tabs = TRUE.\n"
     ]
    },
    {
     "data": {
      "image/png": "[encoded data removed]"
     },
     "metadata": {},
     "output_type": "display_data"
    }
   ],
   "source": [
    "%%R -i df,synth_df\n",
    "utility.tables(synth_df, df, tab.stats = \"pMSE\", tables = \"twoway\")"
   ]
  },
  {
   "cell_type": "markdown",
   "id": "9698aa6d-6bf0-4468-863c-b7ce4df9a9c8",
   "metadata": {},
   "source": [
    "#### Half default batch size"
   ]
  },
  {
   "cell_type": "code",
   "execution_count": 44,
   "id": "459b47a1-07f0-452a-a743-2885313acfb0",
   "metadata": {},
   "outputs": [
    {
     "name": "stdout",
     "output_type": "stream",
     "text": [
      "Run time:  0:01:11.699051\n"
     ]
    }
   ],
   "source": [
    "synth_df = run_ctgan(batch_size=250)"
   ]
  },
  {
   "cell_type": "code",
   "execution_count": 45,
   "id": "a2b6b1a6-0f4a-4795-a79d-4cc59dca0f89",
   "metadata": {},
   "outputs": [
    {
     "name": "stdout",
     "output_type": "stream",
     "text": [
      "\n",
      "Two-way utility: S_pMSE value plotted for 15 pairs of variables.\n",
      "\n",
      "Variable combinations with worst 5 utility scores (S_pMSE):\n",
      "   1.sex:6.fy_gpa  2.sat_v:6.fy_gpa 5.hs_gpa:6.fy_gpa   2.sat_v:3.sat_m \n",
      "          36.1387           22.1303           19.2550           18.7643 \n",
      " 3.sat_m:6.fy_gpa \n",
      "          17.5568 \n",
      "\n",
      "Medians and maxima of selected utility measures for all tables compared\n",
      "     Medians Maxima\n",
      "pMSE  0.0221 0.0332\n",
      "\n",
      "For more details of all scores use print.tabs = TRUE.\n"
     ]
    },
    {
     "data": {
      "image/png": "[encoded data removed]"
     },
     "metadata": {},
     "output_type": "display_data"
    }
   ],
   "source": [
    "%%R -i df,synth_df\n",
    "utility.tables(synth_df, df, tab.stats = \"pMSE\", tables = \"twoway\")"
   ]
  },
  {
   "cell_type": "markdown",
   "id": "6ae01483-25fb-4d01-ba1f-3ecb0e2bd4cc",
   "metadata": {},
   "source": [
    "#### A quarter default batch size\n",
    "Round down to nearest 10"
   ]
  },
  {
   "cell_type": "code",
   "execution_count": 46,
   "id": "5f4d63a8-137d-4ee8-bd8e-04974f56383d",
   "metadata": {},
   "outputs": [
    {
     "name": "stdout",
     "output_type": "stream",
     "text": [
      "Run time:  0:01:45.138289\n"
     ]
    }
   ],
   "source": [
    "synth_df = run_ctgan(batch_size=120)"
   ]
  },
  {
   "cell_type": "code",
   "execution_count": 47,
   "id": "2bf48fbc-3d20-409a-8d32-45d382c9d977",
   "metadata": {},
   "outputs": [
    {
     "name": "stdout",
     "output_type": "stream",
     "text": [
      "\n",
      "Two-way utility: S_pMSE value plotted for 15 pairs of variables.\n",
      "\n",
      "Variable combinations with worst 5 utility scores (S_pMSE):\n",
      "    1.sex:3.sat_m   1.sex:4.sat_sum 5.hs_gpa:6.fy_gpa   2.sat_v:3.sat_m \n",
      "          18.6483           13.9377           10.1055            9.3517 \n",
      "    1.sex:2.sat_v \n",
      "           8.3796 \n",
      "\n",
      "Medians and maxima of selected utility measures for all tables compared\n",
      "     Medians Maxima\n",
      "pMSE  0.0078 0.0152\n",
      "\n",
      "For more details of all scores use print.tabs = TRUE.\n"
     ]
    },
    {
     "data": {
      "image/png": "[encoded data removed]"
     },
     "metadata": {},
     "output_type": "display_data"
    }
   ],
   "source": [
    "%%R -i df,synth_df\n",
    "utility.tables(synth_df, df, tab.stats = \"pMSE\", tables = \"twoway\")"
   ]
  },
  {
   "cell_type": "markdown",
   "id": "6b8cc9ff-8b45-4217-acd0-200066fa44b5",
   "metadata": {},
   "source": [
    "#### Very small batch size"
   ]
  },
  {
   "cell_type": "code",
   "execution_count": 48,
   "id": "28a78bf5-cbdc-4a79-b88e-1ffad15095e2",
   "metadata": {},
   "outputs": [
    {
     "name": "stdout",
     "output_type": "stream",
     "text": [
      "Run time:  0:12:41.254109\n"
     ]
    }
   ],
   "source": [
    "synth_df = run_ctgan(batch_size=10)"
   ]
  },
  {
   "cell_type": "code",
   "execution_count": 49,
   "id": "034f5700-dae3-4e7c-ab87-788dfb083741",
   "metadata": {},
   "outputs": [
    {
     "name": "stdout",
     "output_type": "stream",
     "text": [
      "\n",
      "Two-way utility: S_pMSE value plotted for 15 pairs of variables.\n",
      "\n",
      "Variable combinations with worst 5 utility scores (S_pMSE):\n",
      "    1.sex:3.sat_m 3.sat_m:4.sat_sum   2.sat_v:3.sat_m  3.sat_m:5.hs_gpa \n",
      "          41.5331           24.8029           24.6253           23.3031 \n",
      "2.sat_v:4.sat_sum \n",
      "          20.5516 \n",
      "\n",
      "Medians and maxima of selected utility measures for all tables compared\n",
      "     Medians Maxima\n",
      "pMSE  0.0197 0.0369\n",
      "\n",
      "For more details of all scores use print.tabs = TRUE.\n"
     ]
    },
    {
     "data": {
      "image/png": "[encoded data removed]"
     },
     "metadata": {},
     "output_type": "display_data"
    }
   ],
   "source": [
    "%%R -i df,synth_df\n",
    "utility.tables(synth_df, df, tab.stats = \"pMSE\", tables = \"twoway\")"
   ]
  },
  {
   "cell_type": "markdown",
   "id": "20d0b481-b4f8-4375-b9bc-1dfb95e810aa",
   "metadata": {},
   "source": [
    "### Varying discriminator steps"
   ]
  },
  {
   "cell_type": "markdown",
   "id": "31f55cc2-b1ed-49ff-8344-303a9c914edd",
   "metadata": {},
   "source": [
    "Default discriminator steps is 1. So not tested."
   ]
  },
  {
   "cell_type": "markdown",
   "id": "7a86adf0-fd6f-4712-9b6c-2d77b44cc893",
   "metadata": {},
   "source": [
    "#### Increase step count to 3"
   ]
  },
  {
   "cell_type": "code",
   "execution_count": 50,
   "id": "02992bc8-b634-4d48-8a55-d7aaf6ba909c",
   "metadata": {},
   "outputs": [
    {
     "name": "stdout",
     "output_type": "stream",
     "text": [
      "Run time:  0:04:08.054588\n"
     ]
    }
   ],
   "source": [
    "synth_df = run_ctgan(batch_size=120, discriminator_steps=3)"
   ]
  },
  {
   "cell_type": "code",
   "execution_count": 51,
   "id": "192e805d-0956-40e1-a3fb-a2f56b077091",
   "metadata": {},
   "outputs": [
    {
     "name": "stdout",
     "output_type": "stream",
     "text": [
      "\n",
      "Two-way utility: S_pMSE value plotted for 15 pairs of variables.\n",
      "\n",
      "Variable combinations with worst 5 utility scores (S_pMSE):\n",
      "   1.sex:4.sat_sum      1.sex:2.sat_v      1.sex:3.sat_m     1.sex:6.fy_gpa \n",
      "           15.5639            13.5604            13.3687            13.1664 \n",
      "4.sat_sum:6.fy_gpa \n",
      "           10.3077 \n",
      "\n",
      "Medians and maxima of selected utility measures for all tables compared\n",
      "     Medians Maxima\n",
      "pMSE  0.0103 0.0155\n",
      "\n",
      "For more details of all scores use print.tabs = TRUE.\n"
     ]
    },
    {
     "data": {
      "image/png": "[encoded data removed]"
     },
     "metadata": {},
     "output_type": "display_data"
    }
   ],
   "source": [
    "%%R -i df,synth_df\n",
    "utility.tables(synth_df, df, tab.stats = \"pMSE\", tables = \"twoway\")"
   ]
  },
  {
   "cell_type": "markdown",
   "id": "aac9daed-8410-4595-80e2-20e0df10cbb8",
   "metadata": {},
   "source": [
    "#### Increase steps to 5"
   ]
  },
  {
   "cell_type": "code",
   "execution_count": 52,
   "id": "e98fbd8d-1b8e-4299-9831-f176db0fb3fd",
   "metadata": {},
   "outputs": [
    {
     "name": "stdout",
     "output_type": "stream",
     "text": [
      "Run time:  0:06:12.972173\n"
     ]
    }
   ],
   "source": [
    "synth_df = run_ctgan(batch_size=120, discriminator_steps=5)"
   ]
  },
  {
   "cell_type": "code",
   "execution_count": 53,
   "id": "865524a3-1693-4596-a055-5b3835a532b0",
   "metadata": {},
   "outputs": [
    {
     "name": "stdout",
     "output_type": "stream",
     "text": [
      "\n",
      "Two-way utility: S_pMSE value plotted for 15 pairs of variables.\n",
      "\n",
      "Variable combinations with worst 5 utility scores (S_pMSE):\n",
      " 5.hs_gpa:6.fy_gpa     1.sex:5.hs_gpa 4.sat_sum:5.hs_gpa   2.sat_v:5.hs_gpa \n",
      "            9.5641             8.4774             8.4352             7.8994 \n",
      "     1.sex:3.sat_m \n",
      "            7.8246 \n",
      "\n",
      "Medians and maxima of selected utility measures for all tables compared\n",
      "     Medians Maxima\n",
      "pMSE  0.0065 0.0143\n",
      "\n",
      "For more details of all scores use print.tabs = TRUE.\n"
     ]
    },
    {
     "data": {
      "image/png": "[encoded data removed]"
     },
     "metadata": {},
     "output_type": "display_data"
    }
   ],
   "source": [
    "%%R -i df,synth_df\n",
    "utility.tables(synth_df, df, tab.stats = \"pMSE\", tables = \"twoway\")"
   ]
  },
  {
   "cell_type": "markdown",
   "id": "7023bf6e-b37f-492a-a8f1-ff4c91f09a95",
   "metadata": {},
   "source": [
    "### Learning rate"
   ]
  },
  {
   "cell_type": "markdown",
   "id": "0d3a47d6-22b2-47c0-9b31-54e04274d929",
   "metadata": {},
   "source": [
    "Increase step size for both disciminator and critic together. Just makes it easier to test.\n",
    "\n",
    "Increase by factor 10."
   ]
  },
  {
   "cell_type": "markdown",
   "id": "098a8329-0692-4877-a662-0b23b3ae00f7",
   "metadata": {},
   "source": [
    "#### Learning rate 2e-3"
   ]
  },
  {
   "cell_type": "code",
   "execution_count": 54,
   "id": "5b03e13f-767b-480f-9fb6-b9f31859ec06",
   "metadata": {},
   "outputs": [
    {
     "name": "stdout",
     "output_type": "stream",
     "text": [
      "Run time:  0:06:14.576228\n"
     ]
    }
   ],
   "source": [
    "synth_df = run_ctgan(batch_size=120, discriminator_steps=5, generator_lr=2e-3, discriminator_lr=2e-3)"
   ]
  },
  {
   "cell_type": "code",
   "execution_count": 55,
   "id": "a86f910b-0aa2-4cf9-bbf1-d18924d03b43",
   "metadata": {},
   "outputs": [
    {
     "name": "stdout",
     "output_type": "stream",
     "text": [
      "\n",
      "Two-way utility: S_pMSE value plotted for 15 pairs of variables.\n",
      "\n",
      "Variable combinations with worst 5 utility scores (S_pMSE):\n",
      "    1.sex:2.sat_v  2.sat_v:5.hs_gpa  2.sat_v:6.fy_gpa 2.sat_v:4.sat_sum \n",
      "          26.4846           19.1325           18.2768           16.3589 \n",
      "  2.sat_v:3.sat_m \n",
      "          16.1405 \n",
      "\n",
      "Medians and maxima of selected utility measures for all tables compared\n",
      "     Medians Maxima\n",
      "pMSE  0.0179 0.0287\n",
      "\n",
      "For more details of all scores use print.tabs = TRUE.\n"
     ]
    },
    {
     "data": {
      "image/png": "[encoded data removed]"
     },
     "metadata": {},
     "output_type": "display_data"
    }
   ],
   "source": [
    "%%R -i df,synth_df\n",
    "utility.tables(synth_df, df, tab.stats = \"pMSE\", tables = \"twoway\")"
   ]
  },
  {
   "cell_type": "markdown",
   "id": "8319d92f-b54b-4578-9732-ea1bb111a91c",
   "metadata": {},
   "source": [
    "#### Learning rate 2e-2"
   ]
  },
  {
   "cell_type": "code",
   "execution_count": 56,
   "id": "f6fa3658-b576-4e73-92e7-535a2e712faa",
   "metadata": {},
   "outputs": [
    {
     "name": "stdout",
     "output_type": "stream",
     "text": [
      "Run time:  0:06:51.823546\n"
     ]
    }
   ],
   "source": [
    "synth_df = run_ctgan(batch_size=120, discriminator_steps=5, generator_lr=2e-2, discriminator_lr=2e-2)"
   ]
  },
  {
   "cell_type": "code",
   "execution_count": 57,
   "id": "c67a9ee7-3f6c-482d-8a81-65df31ef779f",
   "metadata": {},
   "outputs": [
    {
     "name": "stdout",
     "output_type": "stream",
     "text": [
      "\n",
      "Two-way utility: S_pMSE value plotted for 15 pairs of variables.\n",
      "\n",
      "Variable combinations with worst 5 utility scores (S_pMSE):\n",
      "   1.sex:2.sat_v    1.sex:3.sat_m   1.sex:6.fy_gpa   1.sex:5.hs_gpa \n",
      "        297.8282         281.7092         260.6945         254.4755 \n",
      "2.sat_v:6.fy_gpa \n",
      "        157.3115 \n",
      "\n",
      "Medians and maxima of selected utility measures for all tables compared\n",
      "     Medians Maxima\n",
      "pMSE  0.1923 0.2261\n",
      "\n",
      "For more details of all scores use print.tabs = TRUE.\n"
     ]
    },
    {
     "data": {
      "image/png": "[encoded data removed]"
     },
     "metadata": {},
     "output_type": "display_data"
    }
   ],
   "source": [
    "%%R -i df,synth_df\n",
    "utility.tables(synth_df, df, tab.stats = \"pMSE\", tables = \"twoway\")"
   ]
  },
  {
   "cell_type": "markdown",
   "id": "12432b66-06c8-4cd5-b6d7-52847bb6ac80",
   "metadata": {},
   "source": [
    "#### Learning rate 2e-1"
   ]
  },
  {
   "cell_type": "code",
   "execution_count": 58,
   "id": "2ea4262c-0269-45cd-9a04-e316a05c0c0f",
   "metadata": {},
   "outputs": [
    {
     "name": "stdout",
     "output_type": "stream",
     "text": [
      "Run time:  0:06:22.588044\n"
     ]
    }
   ],
   "source": [
    "synth_df = run_ctgan(batch_size=120, discriminator_steps=5, generator_lr=2e-1, discriminator_lr=2e-1)"
   ]
  },
  {
   "cell_type": "code",
   "execution_count": 59,
   "id": "ba6becee-b729-4787-8ac8-1bb31b2df6e7",
   "metadata": {},
   "outputs": [
    {
     "name": "stdout",
     "output_type": "stream",
     "text": [
      "\n",
      "Two-way utility: S_pMSE value plotted for 15 pairs of variables.\n",
      "\n",
      "Variable combinations with worst 5 utility scores (S_pMSE):\n",
      "   1.sex:5.hs_gpa     1.sex:2.sat_v    1.sex:6.fy_gpa   1.sex:4.sat_sum \n",
      "         568.1341          561.2370          540.2162          503.7889 \n",
      "3.sat_m:4.sat_sum \n",
      "         489.5991 \n",
      "\n",
      "Medians and maxima of selected utility measures for all tables compared\n",
      "     Medians Maxima\n",
      "pMSE  0.2312   0.25\n",
      "\n",
      "For more details of all scores use print.tabs = TRUE.\n"
     ]
    },
    {
     "data": {
      "image/png": "[encoded data removed]"
     },
     "metadata": {},
     "output_type": "display_data"
    }
   ],
   "source": [
    "%%R -i df,synth_df\n",
    "utility.tables(synth_df, df, tab.stats = \"pMSE\", tables = \"twoway\")"
   ]
  },
  {
   "cell_type": "markdown",
   "id": "518420fb-63ff-4605-b3a5-f050cf7820f1",
   "metadata": {},
   "source": [
    "#### Learning rate 2"
   ]
  },
  {
   "cell_type": "code",
   "execution_count": null,
   "id": "b560e9b9-4f58-41df-aa05-4bc530d570f5",
   "metadata": {},
   "outputs": [],
   "source": [
    "synth_df = run_ctgan(batch_size=120, discriminator_steps=5, generator_lr=2, discriminator_lr=2)"
   ]
  },
  {
   "cell_type": "code",
   "execution_count": null,
   "id": "f51f4ba4-c0d2-43b5-8321-c308f4998ed9",
   "metadata": {},
   "outputs": [],
   "source": [
    "%%R -i df,synth_df\n",
    "utility.tables(synth_df, df, tab.stats = \"pMSE\", tables = \"twoway\")"
   ]
  },
  {
   "cell_type": "markdown",
   "id": "93f83328-886d-4820-9076-cb90b1a727ec",
   "metadata": {},
   "source": [
    "#### Learning rate 20"
   ]
  },
  {
   "cell_type": "code",
   "execution_count": null,
   "id": "af0bc8cb-7e7d-4d09-8d05-e9b43d058b7f",
   "metadata": {},
   "outputs": [],
   "source": [
    "synth_df = run_ctgan(batch_size=120, discriminator_steps=5, generator_lr=20, discriminator_lr=20)"
   ]
  },
  {
   "cell_type": "code",
   "execution_count": null,
   "id": "5138f080-2d41-4365-af2b-f0d0d0f13cf5",
   "metadata": {},
   "outputs": [],
   "source": [
    "%%R -i df,synth_df\n",
    "utility.tables(synth_df, df, tab.stats = \"pMSE\", tables = \"twoway\")"
   ]
  }
 ],
 "metadata": {
  "kernelspec": {
   "display_name": "kooste-Y9QsWDTI",
   "language": "python",
   "name": "kooste-y9qswdti"
  },
  "language_info": {
   "codemirror_mode": {
    "name": "ipython",
    "version": 3
   },
   "file_extension": ".py",
   "mimetype": "text/x-python",
   "name": "python",
   "nbconvert_exporter": "python",
   "pygments_lexer": "ipython3",
   "version": "3.8.10"
  }
 },
 "nbformat": 4,
 "nbformat_minor": 5
}
