{
 "cells": [
  {
   "cell_type": "markdown",
   "id": "c4be781c-2854-471e-aba5-c41062943de2",
   "metadata": {},
   "source": [
    "# Using CTGAN to synthesise data\n",
    "\n",
    "Source: https://github.com/sdv-dev/CTGAN\n",
    "\n",
    "- Uses Python to generate synthetic data\n",
    "- Uses R for evaluation "
   ]
  },
  {
   "cell_type": "code",
   "execution_count": 2,
   "id": "4d45425d-b171-4b14-94dd-59c5abcb703c",
   "metadata": {},
   "outputs": [],
   "source": [
    "from ctgan import CTGANSynthesizer\n",
    "import pandas as pd\n",
    "import numpy as np\n",
    "import matplotlib.pyplot as plt"
   ]
  },
  {
   "cell_type": "markdown",
   "id": "b1708f4f-39fd-4765-9968-bf9732438b47",
   "metadata": {},
   "source": [
    "## Load dataset"
   ]
  },
  {
   "cell_type": "code",
   "execution_count": 49,
   "id": "72b7656a-8dfb-4ebd-9273-a7181b368417",
   "metadata": {},
   "outputs": [
    {
     "name": "stdout",
     "output_type": "stream",
     "text": [
      "<class 'pandas.core.frame.DataFrame'>\n",
      "RangeIndex: 1000 entries, 0 to 999\n",
      "Data columns (total 6 columns):\n",
      " #   Column   Non-Null Count  Dtype  \n",
      "---  ------   --------------  -----  \n",
      " 0   sex      1000 non-null   int64  \n",
      " 1   sat_v    1000 non-null   int64  \n",
      " 2   sat_m    1000 non-null   int64  \n",
      " 3   sat_sum  1000 non-null   int64  \n",
      " 4   hs_gpa   1000 non-null   float64\n",
      " 5   fy_gpa   1000 non-null   float64\n",
      "dtypes: float64(2), int64(4)\n",
      "memory usage: 47.0 KB\n"
     ]
    }
   ],
   "source": [
    "df = pd.read_csv(\"./original_data/satgpa.csv\")\n",
    "df.info()"
   ]
  },
  {
   "cell_type": "code",
   "execution_count": 50,
   "id": "019fd29a-2ddd-4ca4-945b-706bcb4cb441",
   "metadata": {},
   "outputs": [
    {
     "data": {
      "text/html": [
       "<div>\n",
       "<style scoped>\n",
       "    .dataframe tbody tr th:only-of-type {\n",
       "        vertical-align: middle;\n",
       "    }\n",
       "\n",
       "    .dataframe tbody tr th {\n",
       "        vertical-align: top;\n",
       "    }\n",
       "\n",
       "    .dataframe thead th {\n",
       "        text-align: right;\n",
       "    }\n",
       "</style>\n",
       "<table border=\"1\" class=\"dataframe\">\n",
       "  <thead>\n",
       "    <tr style=\"text-align: right;\">\n",
       "      <th></th>\n",
       "      <th>sex</th>\n",
       "      <th>sat_v</th>\n",
       "      <th>sat_m</th>\n",
       "      <th>sat_sum</th>\n",
       "      <th>hs_gpa</th>\n",
       "      <th>fy_gpa</th>\n",
       "    </tr>\n",
       "  </thead>\n",
       "  <tbody>\n",
       "    <tr>\n",
       "      <th>0</th>\n",
       "      <td>1</td>\n",
       "      <td>65</td>\n",
       "      <td>62</td>\n",
       "      <td>127</td>\n",
       "      <td>3.40</td>\n",
       "      <td>3.18</td>\n",
       "    </tr>\n",
       "    <tr>\n",
       "      <th>1</th>\n",
       "      <td>2</td>\n",
       "      <td>58</td>\n",
       "      <td>64</td>\n",
       "      <td>122</td>\n",
       "      <td>4.00</td>\n",
       "      <td>3.33</td>\n",
       "    </tr>\n",
       "    <tr>\n",
       "      <th>2</th>\n",
       "      <td>2</td>\n",
       "      <td>56</td>\n",
       "      <td>60</td>\n",
       "      <td>116</td>\n",
       "      <td>3.75</td>\n",
       "      <td>3.25</td>\n",
       "    </tr>\n",
       "    <tr>\n",
       "      <th>3</th>\n",
       "      <td>1</td>\n",
       "      <td>42</td>\n",
       "      <td>53</td>\n",
       "      <td>95</td>\n",
       "      <td>3.75</td>\n",
       "      <td>2.42</td>\n",
       "    </tr>\n",
       "    <tr>\n",
       "      <th>4</th>\n",
       "      <td>1</td>\n",
       "      <td>55</td>\n",
       "      <td>52</td>\n",
       "      <td>107</td>\n",
       "      <td>4.00</td>\n",
       "      <td>2.63</td>\n",
       "    </tr>\n",
       "  </tbody>\n",
       "</table>\n",
       "</div>"
      ],
      "text/plain": [
       "   sex  sat_v  sat_m  sat_sum  hs_gpa  fy_gpa\n",
       "0    1     65     62      127    3.40    3.18\n",
       "1    2     58     64      122    4.00    3.33\n",
       "2    2     56     60      116    3.75    3.25\n",
       "3    1     42     53       95    3.75    2.42\n",
       "4    1     55     52      107    4.00    2.63"
      ]
     },
     "execution_count": 50,
     "metadata": {},
     "output_type": "execute_result"
    }
   ],
   "source": [
    "df.head()"
   ]
  },
  {
   "cell_type": "code",
   "execution_count": 51,
   "id": "5b57b641-2fa8-417f-9132-673f4824d00e",
   "metadata": {},
   "outputs": [],
   "source": [
    "# Set discrete columns\n",
    "discrete_cols = [\n",
    "    'sex'\n",
    "]"
   ]
  },
  {
   "cell_type": "markdown",
   "id": "162aef68-8a53-49fb-a4d2-885c45ff6ba3",
   "metadata": {},
   "source": [
    "## Generate synthetic data"
   ]
  },
  {
   "cell_type": "code",
   "execution_count": 117,
   "id": "d408d438-8bf2-4ade-a28b-6bfa1f470e2f",
   "metadata": {},
   "outputs": [
    {
     "name": "stderr",
     "output_type": "stream",
     "text": [
      "C:\\Users\\kooste\\.virtualenvs\\kooste-Y9QsWDTI\\lib\\site-packages\\sklearn\\mixture\\_base.py:265: ConvergenceWarning: Initialization 1 did not converge. Try different init parameters, or increase max_iter, tol or check for degenerate data.\n",
      "  warnings.warn('Initialization %d did not converge. '\n",
      "C:\\Users\\kooste\\.virtualenvs\\kooste-Y9QsWDTI\\lib\\site-packages\\sklearn\\mixture\\_base.py:265: ConvergenceWarning: Initialization 1 did not converge. Try different init parameters, or increase max_iter, tol or check for degenerate data.\n",
      "  warnings.warn('Initialization %d did not converge. '\n",
      "C:\\Users\\kooste\\.virtualenvs\\kooste-Y9QsWDTI\\lib\\site-packages\\sklearn\\mixture\\_base.py:265: ConvergenceWarning: Initialization 1 did not converge. Try different init parameters, or increase max_iter, tol or check for degenerate data.\n",
      "  warnings.warn('Initialization %d did not converge. '\n",
      "C:\\Users\\kooste\\.virtualenvs\\kooste-Y9QsWDTI\\lib\\site-packages\\sklearn\\mixture\\_base.py:265: ConvergenceWarning: Initialization 1 did not converge. Try different init parameters, or increase max_iter, tol or check for degenerate data.\n",
      "  warnings.warn('Initialization %d did not converge. '\n",
      "C:\\Users\\kooste\\.virtualenvs\\kooste-Y9QsWDTI\\lib\\site-packages\\sklearn\\mixture\\_base.py:265: ConvergenceWarning: Initialization 1 did not converge. Try different init parameters, or increase max_iter, tol or check for degenerate data.\n",
      "  warnings.warn('Initialization %d did not converge. '\n"
     ]
    }
   ],
   "source": [
    "# Initialise and fit GAN\n",
    "model = CTGANSynthesizer(batch_size=250, discriminator_steps=3, generator_lr=2e-3, discriminator_lr=2e-3)\n",
    "model.fit(df, discrete_cols)"
   ]
  },
  {
   "cell_type": "markdown",
   "id": "ce0f857d-7733-4443-91b4-3f7540ceedf0",
   "metadata": {},
   "source": [
    "Can ignore warnings as per developer's comments: https://github.com/sdv-dev/SDGym/issues/44"
   ]
  },
  {
   "cell_type": "code",
   "execution_count": 118,
   "id": "90eb68a8-c506-4c2d-ac57-c1fb333ffdef",
   "metadata": {},
   "outputs": [],
   "source": [
    "synth_df = model.sample(1000)"
   ]
  },
  {
   "cell_type": "code",
   "execution_count": 119,
   "id": "65d9e0ac-918d-4a25-a1d5-5f9cb48e4eab",
   "metadata": {},
   "outputs": [
    {
     "data": {
      "text/html": [
       "<div>\n",
       "<style scoped>\n",
       "    .dataframe tbody tr th:only-of-type {\n",
       "        vertical-align: middle;\n",
       "    }\n",
       "\n",
       "    .dataframe tbody tr th {\n",
       "        vertical-align: top;\n",
       "    }\n",
       "\n",
       "    .dataframe thead th {\n",
       "        text-align: right;\n",
       "    }\n",
       "</style>\n",
       "<table border=\"1\" class=\"dataframe\">\n",
       "  <thead>\n",
       "    <tr style=\"text-align: right;\">\n",
       "      <th></th>\n",
       "      <th>sex</th>\n",
       "      <th>sat_v</th>\n",
       "      <th>sat_m</th>\n",
       "      <th>sat_sum</th>\n",
       "      <th>hs_gpa</th>\n",
       "      <th>fy_gpa</th>\n",
       "    </tr>\n",
       "  </thead>\n",
       "  <tbody>\n",
       "    <tr>\n",
       "      <th>0</th>\n",
       "      <td>2</td>\n",
       "      <td>46</td>\n",
       "      <td>49</td>\n",
       "      <td>115</td>\n",
       "      <td>2.702203</td>\n",
       "      <td>0.778283</td>\n",
       "    </tr>\n",
       "    <tr>\n",
       "      <th>1</th>\n",
       "      <td>1</td>\n",
       "      <td>56</td>\n",
       "      <td>40</td>\n",
       "      <td>107</td>\n",
       "      <td>3.737025</td>\n",
       "      <td>1.611227</td>\n",
       "    </tr>\n",
       "    <tr>\n",
       "      <th>2</th>\n",
       "      <td>2</td>\n",
       "      <td>43</td>\n",
       "      <td>50</td>\n",
       "      <td>92</td>\n",
       "      <td>3.141036</td>\n",
       "      <td>2.460096</td>\n",
       "    </tr>\n",
       "    <tr>\n",
       "      <th>3</th>\n",
       "      <td>1</td>\n",
       "      <td>22</td>\n",
       "      <td>56</td>\n",
       "      <td>64</td>\n",
       "      <td>2.575029</td>\n",
       "      <td>0.508691</td>\n",
       "    </tr>\n",
       "    <tr>\n",
       "      <th>4</th>\n",
       "      <td>2</td>\n",
       "      <td>41</td>\n",
       "      <td>57</td>\n",
       "      <td>93</td>\n",
       "      <td>2.660033</td>\n",
       "      <td>2.414813</td>\n",
       "    </tr>\n",
       "  </tbody>\n",
       "</table>\n",
       "</div>"
      ],
      "text/plain": [
       "   sex  sat_v  sat_m  sat_sum    hs_gpa    fy_gpa\n",
       "0    2     46     49      115  2.702203  0.778283\n",
       "1    1     56     40      107  3.737025  1.611227\n",
       "2    2     43     50       92  3.141036  2.460096\n",
       "3    1     22     56       64  2.575029  0.508691\n",
       "4    2     41     57       93  2.660033  2.414813"
      ]
     },
     "execution_count": 119,
     "metadata": {},
     "output_type": "execute_result"
    }
   ],
   "source": [
    "synth_df.head()"
   ]
  },
  {
   "cell_type": "code",
   "execution_count": 120,
   "id": "3c5b7145-bb77-4fd9-a6c8-a0e8631ca1a1",
   "metadata": {},
   "outputs": [],
   "source": [
    "# Output\n",
    "synth_output = \"./synth_data/ctgan_method.csv\""
   ]
  },
  {
   "cell_type": "code",
   "execution_count": 121,
   "id": "288dc27a-de82-4978-81f5-de1ab5d2d886",
   "metadata": {},
   "outputs": [],
   "source": [
    "synth_df.to_csv(synth_output, sep=\",\")"
   ]
  },
  {
   "cell_type": "markdown",
   "id": "b592cf85-0237-4d2b-b0a9-30a02982bdc6",
   "metadata": {},
   "source": [
    "## Evaluation\n",
    "\n",
    "We used an R package called Synthpop to perform evaluations. This lets us compare with CART methods."
   ]
  },
  {
   "cell_type": "code",
   "execution_count": 6,
   "id": "c7596e11-1f36-4971-9e5c-335c4059a93e",
   "metadata": {},
   "outputs": [],
   "source": [
    "# Read in synth data\n",
    "synth_df = pd.read_csv(synth_output)"
   ]
  },
  {
   "cell_type": "code",
   "execution_count": 22,
   "id": "cd269461-f5f2-4fa8-8a04-e8ee14136a7f",
   "metadata": {},
   "outputs": [
    {
     "name": "stdout",
     "output_type": "stream",
     "text": [
      "The rpy2.ipython extension is already loaded. To reload it, use:\n",
      "  %reload_ext rpy2.ipython\n"
     ]
    }
   ],
   "source": [
    "# Enables R in the notebook, only need to run once\n",
    "%load_ext rpy2.ipython"
   ]
  },
  {
   "cell_type": "code",
   "execution_count": 89,
   "id": "5c8df825-65db-4219-9a28-2e65ff9064f3",
   "metadata": {},
   "outputs": [
    {
     "name": "stdout",
     "output_type": "stream",
     "text": [
      "[1] \"Frequency of sex: Real\"\n",
      "  sex   n  freq\n",
      "1   1 516 0.516\n",
      "2   2 484 0.484\n",
      "[1] \"Frequency of sex: Synthetic\"\n",
      "  sex   n  freq   p_score\n",
      "1   1 529 0.529 0.5062201\n",
      "2   2 471 0.471 0.4931937\n"
     ]
    }
   ],
   "source": [
    "%%R -i df,synth_df\n",
    "\n",
    "suppressMessages(library(dplyr))\n",
    "\n",
    "real_n <- df %>%\n",
    "    count(sex) %>%\n",
    "    mutate(freq = n / sum(n))\n",
    "    \n",
    "male_n <- real_n[which(real_n$sex == 1), \"n\"]\n",
    "female_n <- real_n[which(real_n$sex == 2), \"n\"]\n",
    "\n",
    "synth_n <- synth_df %>%\n",
    "    count(sex) %>%\n",
    "    mutate(freq = n / sum(n),\n",
    "          p_score = case_when(sex == 1 ~ n / (n + male_n),\n",
    "                             sex == 2 ~ n / (n + female_n)))\n",
    "\n",
    "print(\"Frequency of sex: Real\")\n",
    "print(real_n)\n",
    "print(\"Frequency of sex: Synthetic\")\n",
    "print(synth_n)"
   ]
  },
  {
   "cell_type": "markdown",
   "id": "a771efee-855f-4956-a74e-8fc9bc55f08c",
   "metadata": {},
   "source": [
    "Since propensity score for sex is near 0.5, we can see the distribution of sex is similar between synthetic vs. real data."
   ]
  },
  {
   "cell_type": "markdown",
   "id": "529314d5-3f68-4b69-bcc1-03ad63264c16",
   "metadata": {},
   "source": [
    "### Visualise\n",
    "First, we visualise the univariate distributions for each variable."
   ]
  },
  {
   "cell_type": "code",
   "execution_count": 122,
   "id": "b6e58287-25f8-4da8-9323-0dacebc4aeed",
   "metadata": {},
   "outputs": [
    {
     "name": "stdout",
     "output_type": "stream",
     "text": [
      "\n",
      "Comparing percentages observed with synthetic\n",
      "\n",
      "Press return for next variable(s): "
     ]
    },
    {
     "name": "stdin",
     "output_type": "stream",
     "text": [
      " \n"
     ]
    },
    {
     "name": "stdout",
     "output_type": "stream",
     "text": [
      "\n",
      "Selected utility measures:\n",
      "           S_pMSE df\n",
      "sex      0.324171  1\n",
      "sat_v   18.598443  4\n",
      "sat_m    3.589340  4\n",
      "sat_sum 26.971762  4\n",
      "hs_gpa  11.471270  4\n",
      "fy_gpa   6.664635  4\n"
     ]
    },
    {
     "data": {
      "image/png": "[encoded data removed]"
     },
     "metadata": {},
     "output_type": "display_data"
    },
    {
     "data": {
      "image/png": "[encoded data removed]"
     },
     "metadata": {},
     "output_type": "display_data"
    }
   ],
   "source": [
    "%%R -i df,synth_df\n",
    "\n",
    "library(synthpop)\n",
    "\n",
    "synthpop::compare(synth_df, df, utility.stats = c(\"S_pMSE\", \"df\"))"
   ]
  },
  {
   "cell_type": "markdown",
   "id": "4db4ca2e-f543-4bda-af2e-b70c0694f848",
   "metadata": {},
   "source": [
    "### Utility scores\n",
    "\n",
    "Visualises utility for all two-way tables.\n",
    "\n",
    "A higher utility score is worse."
   ]
  },
  {
   "cell_type": "code",
   "execution_count": 123,
   "id": "c678a159-8516-4b19-95c4-172395acc59c",
   "metadata": {},
   "outputs": [
    {
     "name": "stdout",
     "output_type": "stream",
     "text": [
      "\n",
      "Two-way utility: S_pMSE value plotted for 15 pairs of variables.\n",
      "\n",
      "Variable combinations with worst 5 utility scores (S_pMSE):\n",
      " 3.sat_m:4.sat_sum  2.sat_v:4.sat_sum 4.sat_sum:5.hs_gpa 4.sat_sum:6.fy_gpa \n",
      "           33.9646            27.0094            16.2696            12.5488 \n",
      "   1.sex:4.sat_sum \n",
      "           12.4941 \n",
      "\n",
      "Table of selected utility measures\n",
      "                         VW        FT    JSD SPECKS  WMabsDD        U        G\n",
      "1.sex:2.sat_v       84.5611   85.7171 0.0154  0.114  28.4872 578423.5  89.6635\n",
      "1.sex:3.sat_m       38.9663   39.6063 0.0071  0.060  15.6097 546805.5  42.1274\n",
      "1.sex:4.sat_sum    112.4468  114.0993 0.0205  0.132  33.0033 593675.0 114.3115\n",
      "1.sex:5.hs_gpa      63.0363   63.6008 0.0114  0.108  27.3019 570815.5  64.9186\n",
      "1.sex:6.fy_gpa      29.2581   29.3990 0.0053  0.065  16.3383 546463.5  30.1264\n",
      "2.sat_v:3.sat_m    201.0083  210.8243 0.0374  0.177  74.1373 615771.0 235.9767\n",
      "2.sat_v:4.sat_sum  648.2246  816.7724 0.1315  0.331 140.4750 721818.0 743.6771\n",
      "2.sat_v:5.hs_gpa   277.1968  312.1008 0.0538  0.206  80.5116 641556.5 382.3984\n",
      "2.sat_v:6.fy_gpa   213.5680  248.0447 0.0421  0.170  69.9603 618403.0 327.4025\n",
      "3.sat_m:4.sat_sum  815.1494 1107.5759 0.1708  0.384 161.0068 739098.5 898.5355\n",
      "3.sat_m:5.hs_gpa   151.6170  161.7006 0.0285  0.144  58.9692 603013.5 184.2230\n",
      "3.sat_m:6.fy_gpa   117.8081  123.4527 0.0219  0.127  52.9044 588500.5 138.1761\n",
      "4.sat_sum:5.hs_gpa 390.4694  458.4431 0.0775  0.237  90.7840 668885.0 579.6173\n",
      "4.sat_sum:6.fy_gpa 301.1722  359.4336 0.0602  0.200  79.9318 643270.5 486.2019\n",
      "5.hs_gpa:6.fy_gpa  272.0438  284.0798 0.0505  0.224  92.5323 646950.5 304.4024\n",
      "                     pMSE  PO50 MabsDD dBhatt    S_VW    S_FT   S_JSD S_WMabsDD\n",
      "1.sex:2.sat_v      0.0053  5.70  0.228 0.1035  9.3957  9.5241  9.8665    3.1652\n",
      "1.sex:3.sat_m      0.0024  3.00  0.120 0.0704  4.3296  4.4007  4.5546    1.7344\n",
      "1.sex:4.sat_sum    0.0070  6.60  0.264 0.1194 12.4941 12.6777 13.1290    3.6670\n",
      "1.sex:5.hs_gpa     0.0039  5.40  0.216 0.0892  7.0040  7.0668  7.3323    3.0335\n",
      "1.sex:6.fy_gpa     0.0018  3.25  0.130 0.0606  3.2509  3.2666  3.3940    1.8154\n",
      "2.sat_v:3.sat_m    0.0126  8.85  0.354 0.1623  8.3753  8.7843  8.9917    3.0891\n",
      "2.sat_v:4.sat_sum  0.0405 16.55  0.662 0.3195 27.0094 34.0322 31.6250    5.8531\n",
      "2.sat_v:5.hs_gpa   0.0173 10.30  0.412 0.1975 11.5499 13.0042 12.9280    3.3546\n",
      "2.sat_v:6.fy_gpa   0.0133  8.50  0.340 0.1761  8.8987 10.3352 10.1219    2.9150\n",
      "3.sat_m:4.sat_sum  0.0509 19.20  0.768 0.3721 33.9646 46.1490 41.0650    6.7086\n",
      "3.sat_m:5.hs_gpa   0.0095  7.20  0.288 0.1422  6.3174  6.7375  6.8488    2.4571\n",
      "3.sat_m:6.fy_gpa   0.0074  6.35  0.254 0.1242  4.9087  5.1439  5.2663    2.2043\n",
      "4.sat_sum:5.hs_gpa 0.0244 11.85  0.474 0.2394 16.2696 19.1018 18.6453    3.7827\n",
      "4.sat_sum:6.fy_gpa 0.0188 10.00  0.400 0.2120 12.5488 14.9764 14.4861    3.3305\n",
      "5.hs_gpa:6.fy_gpa  0.0170 11.20  0.448 0.1884 11.3352 11.8367 12.1345    3.8555\n",
      "                       S_G  S_pMSE df dfG\n",
      "1.sex:2.sat_v       9.9626  9.3957  9   9\n",
      "1.sex:3.sat_m       4.6808  4.3296  9   9\n",
      "1.sex:4.sat_sum    12.7013 12.4941  9   9\n",
      "1.sex:5.hs_gpa      7.2132  7.0040  9   9\n",
      "1.sex:6.fy_gpa      3.3474  3.2509  9   9\n",
      "2.sat_v:3.sat_m     9.8324  8.3753 24  24\n",
      "2.sat_v:4.sat_sum  35.4132 27.0094 24  21\n",
      "2.sat_v:5.hs_gpa   15.9333 11.5499 24  24\n",
      "2.sat_v:6.fy_gpa   13.6418  8.8987 24  24\n",
      "3.sat_m:4.sat_sum  42.7874 33.9646 24  21\n",
      "3.sat_m:5.hs_gpa    7.6760  6.3174 24  24\n",
      "3.sat_m:6.fy_gpa    5.7573  4.9087 24  24\n",
      "4.sat_sum:5.hs_gpa 24.1507 16.2696 24  24\n",
      "4.sat_sum:6.fy_gpa 20.2584 12.5488 24  24\n",
      "5.hs_gpa:6.fy_gpa  12.6834 11.3352 24  24\n"
     ]
    },
    {
     "data": {
      "image/png": "[encoded data removed]"
     },
     "metadata": {},
     "output_type": "display_data"
    }
   ],
   "source": [
    "%%R -i df,synth_df\n",
    "\n",
    "utility.tables(synth_df, df, tab.stats = \"all\", tables = \"twoway\", print.tabs = TRUE)"
   ]
  }
 ],
 "metadata": {
  "kernelspec": {
   "display_name": "kooste-Y9QsWDTI",
   "language": "python",
   "name": "kooste-y9qswdti"
  },
  "language_info": {
   "codemirror_mode": {
    "name": "ipython",
    "version": 3
   },
   "file_extension": ".py",
   "mimetype": "text/x-python",
   "name": "python",
   "nbconvert_exporter": "python",
   "pygments_lexer": "ipython3",
   "version": "3.8.10"
  }
 },
 "nbformat": 4,
 "nbformat_minor": 5
}
