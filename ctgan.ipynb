{
 "cells": [
  {
   "cell_type": "markdown",
   "id": "c4be781c-2854-471e-aba5-c41062943de2",
   "metadata": {},
   "source": [
    "# Using CTGAN to synthesise data\n",
    "\n",
    "Source: https://github.com/sdv-dev/CTGAN"
   ]
  },
  {
   "cell_type": "code",
   "execution_count": 1,
   "id": "4d45425d-b171-4b14-94dd-59c5abcb703c",
   "metadata": {},
   "outputs": [],
   "source": [
    "from ctgan import CTGANSynthesizer\n",
    "import pandas as pd"
   ]
  },
  {
   "cell_type": "markdown",
   "id": "b1708f4f-39fd-4765-9968-bf9732438b47",
   "metadata": {},
   "source": [
    "## Load dataset"
   ]
  },
  {
   "cell_type": "code",
   "execution_count": 3,
   "id": "72b7656a-8dfb-4ebd-9273-a7181b368417",
   "metadata": {},
   "outputs": [
    {
     "name": "stdout",
     "output_type": "stream",
     "text": [
      "<class 'pandas.core.frame.DataFrame'>\n",
      "RangeIndex: 1000 entries, 0 to 999\n",
      "Data columns (total 6 columns):\n",
      " #   Column   Non-Null Count  Dtype  \n",
      "---  ------   --------------  -----  \n",
      " 0   sex      1000 non-null   int64  \n",
      " 1   sat_v    1000 non-null   int64  \n",
      " 2   sat_m    1000 non-null   int64  \n",
      " 3   sat_sum  1000 non-null   int64  \n",
      " 4   hs_gpa   1000 non-null   float64\n",
      " 5   fy_gpa   1000 non-null   float64\n",
      "dtypes: float64(2), int64(4)\n",
      "memory usage: 47.0 KB\n"
     ]
    }
   ],
   "source": [
    "df = pd.read_csv(\"./original_data/satgpa.csv\")\n",
    "df.info()"
   ]
  },
  {
   "cell_type": "code",
   "execution_count": 4,
   "id": "019fd29a-2ddd-4ca4-945b-706bcb4cb441",
   "metadata": {},
   "outputs": [
    {
     "data": {
      "text/html": [
       "<div>\n",
       "<style scoped>\n",
       "    .dataframe tbody tr th:only-of-type {\n",
       "        vertical-align: middle;\n",
       "    }\n",
       "\n",
       "    .dataframe tbody tr th {\n",
       "        vertical-align: top;\n",
       "    }\n",
       "\n",
       "    .dataframe thead th {\n",
       "        text-align: right;\n",
       "    }\n",
       "</style>\n",
       "<table border=\"1\" class=\"dataframe\">\n",
       "  <thead>\n",
       "    <tr style=\"text-align: right;\">\n",
       "      <th></th>\n",
       "      <th>sex</th>\n",
       "      <th>sat_v</th>\n",
       "      <th>sat_m</th>\n",
       "      <th>sat_sum</th>\n",
       "      <th>hs_gpa</th>\n",
       "      <th>fy_gpa</th>\n",
       "    </tr>\n",
       "  </thead>\n",
       "  <tbody>\n",
       "    <tr>\n",
       "      <th>0</th>\n",
       "      <td>1</td>\n",
       "      <td>65</td>\n",
       "      <td>62</td>\n",
       "      <td>127</td>\n",
       "      <td>3.40</td>\n",
       "      <td>3.18</td>\n",
       "    </tr>\n",
       "    <tr>\n",
       "      <th>1</th>\n",
       "      <td>2</td>\n",
       "      <td>58</td>\n",
       "      <td>64</td>\n",
       "      <td>122</td>\n",
       "      <td>4.00</td>\n",
       "      <td>3.33</td>\n",
       "    </tr>\n",
       "    <tr>\n",
       "      <th>2</th>\n",
       "      <td>2</td>\n",
       "      <td>56</td>\n",
       "      <td>60</td>\n",
       "      <td>116</td>\n",
       "      <td>3.75</td>\n",
       "      <td>3.25</td>\n",
       "    </tr>\n",
       "    <tr>\n",
       "      <th>3</th>\n",
       "      <td>1</td>\n",
       "      <td>42</td>\n",
       "      <td>53</td>\n",
       "      <td>95</td>\n",
       "      <td>3.75</td>\n",
       "      <td>2.42</td>\n",
       "    </tr>\n",
       "    <tr>\n",
       "      <th>4</th>\n",
       "      <td>1</td>\n",
       "      <td>55</td>\n",
       "      <td>52</td>\n",
       "      <td>107</td>\n",
       "      <td>4.00</td>\n",
       "      <td>2.63</td>\n",
       "    </tr>\n",
       "  </tbody>\n",
       "</table>\n",
       "</div>"
      ],
      "text/plain": [
       "   sex  sat_v  sat_m  sat_sum  hs_gpa  fy_gpa\n",
       "0    1     65     62      127    3.40    3.18\n",
       "1    2     58     64      122    4.00    3.33\n",
       "2    2     56     60      116    3.75    3.25\n",
       "3    1     42     53       95    3.75    2.42\n",
       "4    1     55     52      107    4.00    2.63"
      ]
     },
     "execution_count": 4,
     "metadata": {},
     "output_type": "execute_result"
    }
   ],
   "source": [
    "df.head()"
   ]
  },
  {
   "cell_type": "code",
   "execution_count": 5,
   "id": "5b57b641-2fa8-417f-9132-673f4824d00e",
   "metadata": {},
   "outputs": [],
   "source": [
    "# Set discrete columns\n",
    "discrete_cols = [\n",
    "    'sex'\n",
    "]"
   ]
  },
  {
   "cell_type": "markdown",
   "id": "162aef68-8a53-49fb-a4d2-885c45ff6ba3",
   "metadata": {},
   "source": [
    "## Generate synthetic data"
   ]
  },
  {
   "cell_type": "code",
   "execution_count": 6,
   "id": "b65772de-d617-4c27-92dc-e3bc3af5541b",
   "metadata": {},
   "outputs": [],
   "source": [
    "model = CTGANSynthesizer(epochs=10)"
   ]
  },
  {
   "cell_type": "code",
   "execution_count": 7,
   "id": "d408d438-8bf2-4ade-a28b-6bfa1f470e2f",
   "metadata": {},
   "outputs": [
    {
     "name": "stderr",
     "output_type": "stream",
     "text": [
      "C:\\Users\\kooste\\.virtualenvs\\kooste-Y9QsWDTI\\lib\\site-packages\\sklearn\\mixture\\_base.py:265: ConvergenceWarning: Initialization 1 did not converge. Try different init parameters, or increase max_iter, tol or check for degenerate data.\n",
      "  warnings.warn('Initialization %d did not converge. '\n",
      "C:\\Users\\kooste\\.virtualenvs\\kooste-Y9QsWDTI\\lib\\site-packages\\sklearn\\mixture\\_base.py:265: ConvergenceWarning: Initialization 1 did not converge. Try different init parameters, or increase max_iter, tol or check for degenerate data.\n",
      "  warnings.warn('Initialization %d did not converge. '\n",
      "C:\\Users\\kooste\\.virtualenvs\\kooste-Y9QsWDTI\\lib\\site-packages\\sklearn\\mixture\\_base.py:265: ConvergenceWarning: Initialization 1 did not converge. Try different init parameters, or increase max_iter, tol or check for degenerate data.\n",
      "  warnings.warn('Initialization %d did not converge. '\n",
      "C:\\Users\\kooste\\.virtualenvs\\kooste-Y9QsWDTI\\lib\\site-packages\\sklearn\\mixture\\_base.py:265: ConvergenceWarning: Initialization 1 did not converge. Try different init parameters, or increase max_iter, tol or check for degenerate data.\n",
      "  warnings.warn('Initialization %d did not converge. '\n",
      "C:\\Users\\kooste\\.virtualenvs\\kooste-Y9QsWDTI\\lib\\site-packages\\sklearn\\mixture\\_base.py:265: ConvergenceWarning: Initialization 1 did not converge. Try different init parameters, or increase max_iter, tol or check for degenerate data.\n",
      "  warnings.warn('Initialization %d did not converge. '\n"
     ]
    }
   ],
   "source": [
    "model.fit(df, discrete_cols)"
   ]
  },
  {
   "cell_type": "code",
   "execution_count": 8,
   "id": "90eb68a8-c506-4c2d-ac57-c1fb333ffdef",
   "metadata": {},
   "outputs": [],
   "source": [
    "synth_df = model.sample(10000)"
   ]
  },
  {
   "cell_type": "code",
   "execution_count": 9,
   "id": "65d9e0ac-918d-4a25-a1d5-5f9cb48e4eab",
   "metadata": {},
   "outputs": [
    {
     "data": {
      "text/html": [
       "<div>\n",
       "<style scoped>\n",
       "    .dataframe tbody tr th:only-of-type {\n",
       "        vertical-align: middle;\n",
       "    }\n",
       "\n",
       "    .dataframe tbody tr th {\n",
       "        vertical-align: top;\n",
       "    }\n",
       "\n",
       "    .dataframe thead th {\n",
       "        text-align: right;\n",
       "    }\n",
       "</style>\n",
       "<table border=\"1\" class=\"dataframe\">\n",
       "  <thead>\n",
       "    <tr style=\"text-align: right;\">\n",
       "      <th></th>\n",
       "      <th>sex</th>\n",
       "      <th>sat_v</th>\n",
       "      <th>sat_m</th>\n",
       "      <th>sat_sum</th>\n",
       "      <th>hs_gpa</th>\n",
       "      <th>fy_gpa</th>\n",
       "    </tr>\n",
       "  </thead>\n",
       "  <tbody>\n",
       "    <tr>\n",
       "      <th>0</th>\n",
       "      <td>2</td>\n",
       "      <td>42</td>\n",
       "      <td>68</td>\n",
       "      <td>85</td>\n",
       "      <td>3.531436</td>\n",
       "      <td>2.919542</td>\n",
       "    </tr>\n",
       "    <tr>\n",
       "      <th>1</th>\n",
       "      <td>1</td>\n",
       "      <td>54</td>\n",
       "      <td>66</td>\n",
       "      <td>98</td>\n",
       "      <td>2.476098</td>\n",
       "      <td>2.781902</td>\n",
       "    </tr>\n",
       "    <tr>\n",
       "      <th>2</th>\n",
       "      <td>2</td>\n",
       "      <td>43</td>\n",
       "      <td>73</td>\n",
       "      <td>91</td>\n",
       "      <td>2.203752</td>\n",
       "      <td>2.519269</td>\n",
       "    </tr>\n",
       "    <tr>\n",
       "      <th>3</th>\n",
       "      <td>2</td>\n",
       "      <td>39</td>\n",
       "      <td>61</td>\n",
       "      <td>89</td>\n",
       "      <td>1.947934</td>\n",
       "      <td>2.595448</td>\n",
       "    </tr>\n",
       "    <tr>\n",
       "      <th>4</th>\n",
       "      <td>2</td>\n",
       "      <td>66</td>\n",
       "      <td>74</td>\n",
       "      <td>109</td>\n",
       "      <td>3.147522</td>\n",
       "      <td>2.738095</td>\n",
       "    </tr>\n",
       "  </tbody>\n",
       "</table>\n",
       "</div>"
      ],
      "text/plain": [
       "   sex  sat_v  sat_m  sat_sum    hs_gpa    fy_gpa\n",
       "0    2     42     68       85  3.531436  2.919542\n",
       "1    1     54     66       98  2.476098  2.781902\n",
       "2    2     43     73       91  2.203752  2.519269\n",
       "3    2     39     61       89  1.947934  2.595448\n",
       "4    2     66     74      109  3.147522  2.738095"
      ]
     },
     "execution_count": 9,
     "metadata": {},
     "output_type": "execute_result"
    }
   ],
   "source": [
    "synth_df.head()"
   ]
  },
  {
   "cell_type": "code",
   "execution_count": 10,
   "id": "3c5b7145-bb77-4fd9-a6c8-a0e8631ca1a1",
   "metadata": {},
   "outputs": [],
   "source": [
    "# Output\n",
    "synth_output = \"./synth_data/ctgan_method.csv\"\n",
    "synth_df.to_csv(synth_output, sep=\",\")"
   ]
  },
  {
   "cell_type": "markdown",
   "id": "b592cf85-0237-4d2b-b0a9-30a02982bdc6",
   "metadata": {},
   "source": [
    "## Evaluation"
   ]
  }
 ],
 "metadata": {
  "kernelspec": {
   "display_name": "kooste-Y9QsWDTI",
   "language": "python",
   "name": "kooste-y9qswdti"
  },
  "language_info": {
   "codemirror_mode": {
    "name": "ipython",
    "version": 3
   },
   "file_extension": ".py",
   "mimetype": "text/x-python",
   "name": "python",
   "nbconvert_exporter": "python",
   "pygments_lexer": "ipython3",
   "version": "3.8.10"
  }
 },
 "nbformat": 4,
 "nbformat_minor": 5
}
